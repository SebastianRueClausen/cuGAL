{
 "cells": [
  {
   "cell_type": "code",
   "execution_count": 1,
   "metadata": {},
   "outputs": [
    {
     "name": "stderr",
     "output_type": "stream",
     "text": [
      "/home/sebastian/src/bachelor/venv/lib/python3.12/site-packages/tqdm/auto.py:21: TqdmWarning: IProgress not found. Please update jupyter and ipywidgets. See https://ipywidgets.readthedocs.io/en/stable/user_install.html\n",
      "  from .autonotebook import tqdm as notebook_tqdm\n"
     ]
    }
   ],
   "source": [
    "import torch\n",
    "import cuda_kernels\n",
    "from cugal.profile import TimeStamp"
   ]
  },
  {
   "cell_type": "code",
   "execution_count": 13,
   "metadata": {},
   "outputs": [
    {
     "name": "stdout",
     "output_type": "stream",
     "text": [
      "uploading 32768 x 32768 matrix ( 4096.0 mb) takes: 0.5945065307617188 seconds\n"
     ]
    }
   ],
   "source": [
    "n = 2**16\n",
    "matrix = torch.zeros((n, n), dtype=torch.float32)\n",
    "bytes = n * n * 4\n",
    "\n",
    "before = TimeStamp('cuda')\n",
    "cuda_kernels.data_stream_test(matrix)\n",
    "print('uploading', n, 'x', n, 'matrix (', bytes / 1024 / 1024, 'mb) takes:', TimeStamp('cuda').elapsed_seconds(before), 'seconds')"
   ]
  },
  {
   "cell_type": "code",
   "execution_count": null,
   "metadata": {},
   "outputs": [],
   "source": []
  }
 ],
 "metadata": {
  "kernelspec": {
   "display_name": "base",
   "language": "python",
   "name": "python3"
  },
  "language_info": {
   "codemirror_mode": {
    "name": "ipython",
    "version": 3
   },
   "file_extension": ".py",
   "mimetype": "text/x-python",
   "name": "python",
   "nbconvert_exporter": "python",
   "pygments_lexer": "ipython3",
   "version": "3.12.4"
  }
 },
 "nbformat": 4,
 "nbformat_minor": 2
}
