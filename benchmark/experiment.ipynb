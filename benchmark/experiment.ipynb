{
 "cells": [
  {
   "cell_type": "code",
   "execution_count": 18,
   "metadata": {},
   "outputs": [],
   "source": [
    "%matplotlib tk\n",
    "from experiment import *\n",
    "from dataclasses import replace\n",
    "import os\n",
    "import torch\n",
    "from cugal.config import SinkhornMethod, HungarianMethod"
   ]
  },
  {
   "cell_type": "code",
   "execution_count": null,
   "metadata": {},
   "outputs": [
    {
     "name": "stdout",
     "output_type": "stream",
     "text": [
      "Running on NEWMAN_WATTS {'n': 128, 'k': 7, 'p': 0.1}\n",
      "Running with noise level {'source_noise': 0.1, 'target_noise': 0.0, 'refill_edges': False}\n",
      "Running with algorithm Cugal {'safe_mode': False, 'device': 'cpu', 'dtype': 'float64', 'sinkhorn_regularization': 0.5, 'sinkhorn_method': 'LOG', 'sinkhorn_iterations': 500, 'sinkhorn_threshold': 0.0001, 'sinkhorn_eval_freq': 10, 'mu': 2.0, 'iter_count': 15, 'frank_wolfe_iter_count': 10, 'frank_wolfe_threshold': None, 'use_sparse_adjacency': False, 'sinkhorn_cache_size': 1, 'recompute_distance': False, 'hungarian_method': 'SCIPY'}\n"
     ]
    },
    {
     "name": "stderr",
     "output_type": "stream",
     "text": [
      "λ: 100%|██████████| 15/15 [00:00<00:00, 34.22it/s]\n"
     ]
    },
    {
     "name": "stdout",
     "output_type": "stream",
     "text": [
      "Running with algorithm Cugal {'safe_mode': False, 'device': 'cpu', 'dtype': 'float64', 'sinkhorn_regularization': 0.5, 'sinkhorn_method': 'LOG', 'sinkhorn_iterations': 500, 'sinkhorn_threshold': 0.0001, 'sinkhorn_eval_freq': 10, 'mu': 2.0, 'iter_count': 15, 'frank_wolfe_iter_count': 10, 'frank_wolfe_threshold': 0, 'use_sparse_adjacency': False, 'sinkhorn_cache_size': 1, 'recompute_distance': False, 'hungarian_method': 'SCIPY'}\n"
     ]
    },
    {
     "name": "stderr",
     "output_type": "stream",
     "text": [
      "λ: 100%|██████████| 15/15 [00:00<00:00, 27.79it/s]"
     ]
    },
    {
     "name": "stdout",
     "output_type": "stream",
     "text": [
      "0.96875\n",
      "0.96875\n"
     ]
    },
    {
     "name": "stderr",
     "output_type": "stream",
     "text": [
      "\n"
     ]
    }
   ],
   "source": [
    "config = Config(\n",
    "    sinkhorn_method=SinkhornMethod.LOG,\n",
    "    hungarian_method=HungarianMethod.SCIPY,\n",
    "    device=\"cpu\",\n",
    "    dtype=torch.float64, \n",
    "    sinkhorn_cache_size=1,\n",
    "    sinkhorn_regularization=0.25,\n",
    "    sinkhorn_iterations=500,\n",
    "    sinkhorn_threshold=0.0001,\n",
    "    mu=2.0,\n",
    "    use_sparse_adjacency=False,\n",
    "    recompute_distance=False,\n",
    "    frank_wolfe_threshold=None,\n",
    "    frank_wolfe_iter_count=10,\n",
    "    iter_count=15,\n",
    ")\n",
    "\n",
    "experiment = Experiment(\n",
    "    graphs=[\n",
    "        Graph(GraphKind.NEWMAN_WATTS, {\n",
    "            'n': 128,\n",
    "            'k': 7,\n",
    "            'p': 0.1,\n",
    "        }),\n",
    "    ],\n",
    "    algorithms=[\n",
    "        #Algorithm(replace(config, iter_count = 15), use_fugal=False),\n",
    "        #Algorithm(replace(config, iter_count = 1), use_fugal=False),\n",
    "        Algorithm(config, use_fugal=False),\n",
    "        Algorithm(replace(config, frank_wolfe_threshold=0), use_fugal=False),\n",
    "        # Algorithm(replace(config, hungarian_method=HungarianMethod.DENSE), use_fugal=False),\n",
    "        # Algorithm(replace(config, hungarian_method=HungarianMethod.GREEDY), use_fugal=False),\n",
    "    ],\n",
    "    noise_levels=[\n",
    "        NoiseLevel(0.1, 0.0, False),\n",
    "    ],\n",
    "    num_runs=1,\n",
    ")\n",
    "results = experiment.run()\n",
    "\n",
    "folder = \"results\"\n",
    "if not os.path.exists(folder): os.makedirs(folder)\n",
    "# results.dump(folder)\\n\",\n",
    "\n",
    "\n",
    "for graph, noise_level, algorithm, result in results.all_results():\n",
    "    print(result.accuracy)\n",
    "    \"\"\"\n",
    "    print('graph:', graph)\n",
    "    print('noise level:', noise_level)\n",
    "    print('algorithm:', algorithm)\n",
    "    print()\n",
    "    print(result)\n",
    "    print()\n",
    "    \"\"\""
   ]
  }
 ],
 "metadata": {
  "kernelspec": {
   "display_name": "Python 3",
   "language": "python",
   "name": "python3"
  },
  "language_info": {
   "codemirror_mode": {
    "name": "ipython",
    "version": 3
   },
   "file_extension": ".py",
   "mimetype": "text/x-python",
   "name": "python",
   "nbconvert_exporter": "python",
   "pygments_lexer": "ipython3",
   "version": "3.11.6"
  }
 },
 "nbformat": 4,
 "nbformat_minor": 2
}
