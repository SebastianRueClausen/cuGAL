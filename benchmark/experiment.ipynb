{
 "cells": [
  {
   "cell_type": "code",
   "execution_count": 5,
   "metadata": {},
   "outputs": [],
   "source": [
    "from experiment import *\n",
    "import os\n",
    "import torch\n",
    "from cugal.config import SinkhornMethod, HungarianMethod"
   ]
  },
  {
   "cell_type": "code",
   "execution_count": 6,
   "metadata": {},
   "outputs": [
    {
     "name": "stderr",
     "output_type": "stream",
     "text": [
      "λ:   0%|          | 0/15 [00:00<?, ?it/s]"
     ]
    },
    {
     "name": "stdout",
     "output_type": "stream",
     "text": [
      "gradient: 0.9381837844848633\n",
      "P: 0.9990234375\n",
      "gradient: 0.0\n",
      "P: 0.8655729293823242\n"
     ]
    },
    {
     "name": "stderr",
     "output_type": "stream",
     "text": []
    },
    {
     "name": "stdout",
     "output_type": "stream",
     "text": [
      "gradient: 0.0\n",
      "P: 0.7475042343139648\n"
     ]
    },
    {
     "name": "stderr",
     "output_type": "stream",
     "text": []
    },
    {
     "name": "stdout",
     "output_type": "stream",
     "text": [
      "gradient: 0.0\n",
      "P: 0.6526470184326172\n"
     ]
    },
    {
     "name": "stderr",
     "output_type": "stream",
     "text": []
    },
    {
     "name": "stdout",
     "output_type": "stream",
     "text": [
      "gradient: 0.0\n",
      "P: 0.6266307830810547\n",
      "gradient: 0.0\n",
      "P: 0.6221656799316406\n"
     ]
    },
    {
     "name": "stderr",
     "output_type": "stream",
     "text": []
    },
    {
     "name": "stdout",
     "output_type": "stream",
     "text": [
      "gradient: 0.0\n",
      "P: 0.62115478515625\n",
      "gradient: 0.0\n",
      "P: 0.6207284927368164\n"
     ]
    },
    {
     "name": "stderr",
     "output_type": "stream",
     "text": []
    },
    {
     "name": "stdout",
     "output_type": "stream",
     "text": [
      "gradient: 0.0\n",
      "P: 0.6210184097290039\n"
     ]
    },
    {
     "name": "stderr",
     "output_type": "stream",
     "text": []
    },
    {
     "name": "stdout",
     "output_type": "stream",
     "text": [
      "gradient: 0.0\n",
      "P: 0.6215000152587891\n",
      "gradient: 0.0\n",
      "P: 0.6219625473022461\n",
      "gradient: 0.0\n",
      "P: 0.62213134765625\n",
      "gradient: 0.0\n",
      "P: 0.6222829818725586\n",
      "gradient: 0.0\n",
      "P: 0.6223936080932617\n"
     ]
    },
    {
     "name": "stderr",
     "output_type": "stream",
     "text": []
    },
    {
     "name": "stdout",
     "output_type": "stream",
     "text": [
      "gradient: 0.0\n",
      "P: 0.6224937438964844\n",
      "gradient: 0.0\n",
      "P: 0.6230697631835938\n",
      "gradient: 0.0\n",
      "P: 0.6234016418457031\n",
      "gradient: 0.0\n",
      "P: 0.6237192153930664\n"
     ]
    },
    {
     "name": "stderr",
     "output_type": "stream",
     "text": []
    },
    {
     "name": "stdout",
     "output_type": "stream",
     "text": [
      "gradient: 0.0\n",
      "P: 0.6240701675415039\n",
      "gradient: 0.0\n",
      "P: 0.6248550415039062\n",
      "gradient: 0.0\n",
      "P: 0.6252803802490234\n",
      "gradient: 0.0\n",
      "P: 0.6261749267578125\n",
      "gradient: 0.0\n",
      "P: 0.6269779205322266\n",
      "gradient: 0.0\n",
      "P: 0.6277055740356445\n",
      "gradient: 0.0\n",
      "P: 0.6285276412963867\n",
      "gradient: 0.0\n",
      "P: 0.6292190551757812\n",
      "gradient: 0.0\n",
      "P: 0.62982177734375\n",
      "gradient: 0.0\n",
      "P: 0.6307029724121094\n"
     ]
    },
    {
     "name": "stderr",
     "output_type": "stream",
     "text": [
      "λ:  67%|██████▋   | 10/15 [00:00<00:00, 76.83it/s]"
     ]
    },
    {
     "name": "stdout",
     "output_type": "stream",
     "text": [
      "gradient: 0.0\n",
      "P: 0.6315860748291016\n",
      "gradient: 9.5367431640625e-07\n",
      "P: 0.6342983245849609\n",
      "gradient: 3.814697265625e-06\n",
      "P: 0.6365156173706055\n",
      "gradient: 1.33514404296875e-05\n",
      "P: 0.6391868591308594\n",
      "gradient: 4.291534423828125e-05\n",
      "P: 0.6412763595581055\n",
      "gradient: 9.918212890625e-05\n",
      "P: 0.6427841186523438\n",
      "gradient: 0.00017547607421875\n",
      "P: 0.6441879272460938\n",
      "gradient: 0.00029659271240234375\n",
      "P: 0.6457309722900391\n",
      "gradient: 0.0003948211669921875\n",
      "P: 0.6470632553100586\n",
      "gradient: 0.0005283355712890625\n",
      "P: 0.6481094360351562\n"
     ]
    },
    {
     "name": "stderr",
     "output_type": "stream",
     "text": []
    },
    {
     "name": "stdout",
     "output_type": "stream",
     "text": [
      "gradient: 0.0007104873657226562\n",
      "P: 0.6495990753173828\n",
      "gradient: 0.0027971267700195312\n",
      "P: 0.6546831130981445\n",
      "gradient: 0.0045757293701171875\n",
      "P: 0.6586847305297852\n",
      "gradient: 0.005906105041503906\n",
      "P: 0.6623849868774414\n",
      "gradient: 0.006877899169921875\n",
      "P: 0.6657333374023438\n",
      "gradient: 0.007970809936523438\n",
      "P: 0.6687459945678711\n",
      "gradient: 0.009089469909667969\n",
      "P: 0.6715507507324219\n",
      "gradient: 0.010072708129882812\n",
      "P: 0.6752376556396484\n",
      "gradient: 0.010842323303222656\n",
      "P: 0.6782045364379883\n",
      "gradient: 0.011485099792480469\n",
      "P: 0.6811923980712891\n"
     ]
    },
    {
     "name": "stderr",
     "output_type": "stream",
     "text": []
    },
    {
     "name": "stdout",
     "output_type": "stream",
     "text": [
      "gradient: 0.012160301208496094\n",
      "P: 0.6843891143798828\n",
      "gradient: 0.01702880859375\n",
      "P: 0.6956663131713867\n",
      "gradient: 0.020166397094726562\n",
      "P: 0.7055387496948242\n",
      "gradient: 0.023833274841308594\n",
      "P: 0.7158603668212891\n",
      "gradient: 0.027078628540039062\n",
      "P: 0.7273893356323242\n",
      "gradient: 0.02987957000732422\n",
      "P: 0.7393617630004883\n",
      "gradient: 0.032349586486816406\n",
      "P: 0.7520961761474609\n",
      "gradient: 0.03454113006591797\n",
      "P: 0.7636222839355469\n",
      "gradient: 0.036647796630859375\n",
      "P: 0.7754945755004883\n"
     ]
    },
    {
     "name": "stderr",
     "output_type": "stream",
     "text": []
    },
    {
     "name": "stdout",
     "output_type": "stream",
     "text": [
      "gradient: 0.03882884979248047\n",
      "P: 0.7872333526611328\n"
     ]
    },
    {
     "name": "stderr",
     "output_type": "stream",
     "text": []
    },
    {
     "name": "stdout",
     "output_type": "stream",
     "text": [
      "gradient: 0.04122352600097656\n",
      "P: 0.7989339828491211\n",
      "gradient: 0.06458091735839844\n",
      "P: 0.8515491485595703\n",
      "gradient: 0.08818340301513672\n",
      "P: 0.8857746124267578\n",
      "gradient: 0.11484813690185547\n",
      "P: 0.9188880920410156\n"
     ]
    },
    {
     "name": "stderr",
     "output_type": "stream",
     "text": []
    },
    {
     "name": "stdout",
     "output_type": "stream",
     "text": [
      "gradient: 0.14168739318847656\n",
      "P: 0.945098876953125\n",
      "gradient: 0.16765308380126953\n",
      "P: 0.9622783660888672\n"
     ]
    },
    {
     "name": "stderr",
     "output_type": "stream",
     "text": []
    },
    {
     "name": "stdout",
     "output_type": "stream",
     "text": [
      "gradient: 0.19552230834960938\n",
      "P: 0.9737539291381836\n",
      "gradient: 0.224639892578125\n",
      "P: 0.9815263748168945\n",
      "gradient: 0.25372314453125\n",
      "P: 0.9868793487548828\n",
      "gradient: 0.2825813293457031\n",
      "P: 0.9903459548950195\n"
     ]
    },
    {
     "name": "stderr",
     "output_type": "stream",
     "text": []
    },
    {
     "name": "stdout",
     "output_type": "stream",
     "text": [
      "gradient: 0.31149864196777344\n",
      "P: 0.992671012878418\n",
      "gradient: 0.5271644592285156\n",
      "P: 0.9978132247924805\n",
      "gradient: 0.6789999008178711\n",
      "P: 0.9984169006347656\n",
      "gradient: 0.7846136093139648\n",
      "P: 0.9986124038696289\n"
     ]
    },
    {
     "name": "stderr",
     "output_type": "stream",
     "text": []
    },
    {
     "name": "stdout",
     "output_type": "stream",
     "text": [
      "gradient: 0.8571538925170898\n",
      "P: 0.9987316131591797\n"
     ]
    },
    {
     "name": "stderr",
     "output_type": "stream",
     "text": []
    },
    {
     "name": "stdout",
     "output_type": "stream",
     "text": [
      "gradient: 0.8995199203491211\n",
      "P: 0.9987916946411133\n"
     ]
    },
    {
     "name": "stderr",
     "output_type": "stream",
     "text": [
      "λ: 100%|██████████| 15/15 [00:00<00:00, 33.27it/s]\n"
     ]
    },
    {
     "name": "stdout",
     "output_type": "stream",
     "text": [
      "gradient: 0.9459047317504883\n",
      "P: 0.9989404678344727\n",
      "graph: NEWMAN_WATTS {'n': 1024, 'k': 7, 'p': 0.4}\n",
      "noise level: {'source_noise': 0.075, 'target_noise': 0.0, 'refill_edges': False}\n",
      "algorithm: Cugal {'safe_mode': False, 'device': 'cuda', 'dtype': 'float32', 'sinkhorn_regularization': 1.0, 'sinkhorn_method': 'LOG', 'sinkhorn_iterations': 500, 'sinkhorn_threshold': 0.001, 'sinkhorn_eval_freq': 10, 'mu': 2.0, 'iter_count': 15, 'frank_wolfe_iter_count': 10, 'frank_wolfe_threshold': 0.1, 'use_sparse_adjacency': True, 'sinkhorn_cache_size': 1, 'recompute_distance': True, 'hungarian_method': 'SCIPY'}\n",
      "\n",
      "Induced Conserved Structure (ICS)  0.03400885161891451\n",
      "Edge Correctness (EC)              0.03682219419924338\n",
      "Symmetric Substructure Score (SSS) 0.01799802761341223\n",
      "Accuracy                           0.9208984375\n",
      "Time (seconds)                     0.4660775661468506\n",
      "\n"
     ]
    }
   ],
   "source": [
    "config = Config(\n",
    "    sinkhorn_method=SinkhornMethod.LOG,\n",
    "    hungarian_method=HungarianMethod.SCIPY,\n",
    "    device=\"cpu\",\n",
    "    dtype=torch.float32, \n",
    "    sinkhorn_cache_size=1,\n",
    "    mu=2.0,\n",
    "    use_sparse_adjacency=True,\n",
    "    recompute_distance=True,\n",
    "    frank_wolfe_threshold=0.1,\n",
    ")\n",
    "\n",
    "experiment = Experiment(\n",
    "    graphs=[\n",
    "        Graph(GraphKind.NEWMAN_WATTS, {\n",
    "            'n': 256,\n",
    "            'k': 7,\n",
    "            'p': 0.4,\n",
    "        }),\n",
    "    ],\n",
    "    algorithms=[\n",
    "        Algorithm(config, use_fugal=False),\n",
    "        # Algorithm(Config(), use_fugal=True),\\n\",\n",
    "    ],\n",
    "    noise_levels=[\n",
    "        NoiseLevel(0.075, 0.0, False),\n",
    "    ],\n",
    ")\n",
    "results = experiment.run()\n",
    "\n",
    "folder = \"results\"\n",
    "if not os.path.exists(folder): os.makedirs(folder)\n",
    "# results.dump(folder)\\n\",\n",
    "\n",
    "for graph, noise_level, algorithm, result in results.all_results():\n",
    "    print('graph:', graph)\n",
    "    print('noise level:', noise_level)\n",
    "    print('algorithm:', algorithm)\n",
    "    print()\n",
    "    print(result)\n",
    "    print()"
   ]
  }
 ],
 "metadata": {
  "kernelspec": {
   "display_name": "venv",
   "language": "python",
   "name": "python3"
  },
  "language_info": {
   "codemirror_mode": {
    "name": "ipython",
    "version": 3
   },
   "file_extension": ".py",
   "mimetype": "text/x-python",
   "name": "python",
   "nbconvert_exporter": "python",
   "pygments_lexer": "ipython3",
   "version": "3.12.2"
  }
 },
 "nbformat": 4,
 "nbformat_minor": 2
}
