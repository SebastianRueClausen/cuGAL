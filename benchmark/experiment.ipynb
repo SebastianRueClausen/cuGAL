{
 "cells": [
  {
   "cell_type": "code",
   "execution_count": 1,
   "metadata": {},
   "outputs": [],
   "source": [
    "from experiment import *\n",
    "from cugal.config import SinkhornMethod, HungarianMethod\n",
    "import os\n",
    "import torch"
   ]
  },
  {
   "cell_type": "code",
   "execution_count": 17,
   "metadata": {},
   "outputs": [
    {
     "data": {
      "application/vnd.jupyter.widget-view+json": {
       "model_id": "78a120812c0c4c3ba0145fd562fe7fb6",
       "version_major": 2,
       "version_minor": 0
      },
      "text/plain": [
       "λ:   0%|          | 0/15 [00:00<?, ?it/s]"
      ]
     },
     "metadata": {},
     "output_type": "display_data"
    },
    {
     "data": {
      "application/vnd.jupyter.widget-view+json": {
       "model_id": "75c15c6925a743ea9c7876aeffc33860",
       "version_major": 2,
       "version_minor": 0
      },
      "text/plain": [
       "frank-wolfe:   0%|          | 0/10 [00:00<?, ?it/s]"
      ]
     },
     "metadata": {},
     "output_type": "display_data"
    },
    {
     "data": {
      "application/vnd.jupyter.widget-view+json": {
       "model_id": "f06f576dc60b4ff8ae0487c128b8deb3",
       "version_major": 2,
       "version_minor": 0
      },
      "text/plain": [
       "frank-wolfe:   0%|          | 0/10 [00:00<?, ?it/s]"
      ]
     },
     "metadata": {},
     "output_type": "display_data"
    },
    {
     "data": {
      "application/vnd.jupyter.widget-view+json": {
       "model_id": "6221755ad9a747bfba5d64d63ab66ab5",
       "version_major": 2,
       "version_minor": 0
      },
      "text/plain": [
       "frank-wolfe:   0%|          | 0/10 [00:00<?, ?it/s]"
      ]
     },
     "metadata": {},
     "output_type": "display_data"
    },
    {
     "data": {
      "application/vnd.jupyter.widget-view+json": {
       "model_id": "68e0351ffe044fdb95d8b69c754233d4",
       "version_major": 2,
       "version_minor": 0
      },
      "text/plain": [
       "frank-wolfe:   0%|          | 0/10 [00:00<?, ?it/s]"
      ]
     },
     "metadata": {},
     "output_type": "display_data"
    },
    {
     "data": {
      "application/vnd.jupyter.widget-view+json": {
       "model_id": "25ba5d2279c042839b58dd3f4e39618f",
       "version_major": 2,
       "version_minor": 0
      },
      "text/plain": [
       "frank-wolfe:   0%|          | 0/10 [00:00<?, ?it/s]"
      ]
     },
     "metadata": {},
     "output_type": "display_data"
    },
    {
     "data": {
      "application/vnd.jupyter.widget-view+json": {
       "model_id": "c7f09fe7824546e082e6a496953b7fbb",
       "version_major": 2,
       "version_minor": 0
      },
      "text/plain": [
       "frank-wolfe:   0%|          | 0/10 [00:00<?, ?it/s]"
      ]
     },
     "metadata": {},
     "output_type": "display_data"
    },
    {
     "data": {
      "application/vnd.jupyter.widget-view+json": {
       "model_id": "ecb3f098ffba404d9ac2d6b3ef210f1d",
       "version_major": 2,
       "version_minor": 0
      },
      "text/plain": [
       "frank-wolfe:   0%|          | 0/10 [00:00<?, ?it/s]"
      ]
     },
     "metadata": {},
     "output_type": "display_data"
    },
    {
     "data": {
      "application/vnd.jupyter.widget-view+json": {
       "model_id": "d5c064c95e06492bb6ceebe7ea91964d",
       "version_major": 2,
       "version_minor": 0
      },
      "text/plain": [
       "frank-wolfe:   0%|          | 0/10 [00:00<?, ?it/s]"
      ]
     },
     "metadata": {},
     "output_type": "display_data"
    },
    {
     "data": {
      "application/vnd.jupyter.widget-view+json": {
       "model_id": "0eba86350b2a4061992ac9c6f79ee42f",
       "version_major": 2,
       "version_minor": 0
      },
      "text/plain": [
       "frank-wolfe:   0%|          | 0/10 [00:00<?, ?it/s]"
      ]
     },
     "metadata": {},
     "output_type": "display_data"
    },
    {
     "data": {
      "application/vnd.jupyter.widget-view+json": {
       "model_id": "0835f6b1895940329286e6a5c30183e1",
       "version_major": 2,
       "version_minor": 0
      },
      "text/plain": [
       "frank-wolfe:   0%|          | 0/10 [00:00<?, ?it/s]"
      ]
     },
     "metadata": {},
     "output_type": "display_data"
    },
    {
     "data": {
      "application/vnd.jupyter.widget-view+json": {
       "model_id": "e09f653174394c69a40a7c705d19193a",
       "version_major": 2,
       "version_minor": 0
      },
      "text/plain": [
       "frank-wolfe:   0%|          | 0/10 [00:00<?, ?it/s]"
      ]
     },
     "metadata": {},
     "output_type": "display_data"
    },
    {
     "data": {
      "application/vnd.jupyter.widget-view+json": {
       "model_id": "5e87ccffde324e44a4d2963f7cc9beeb",
       "version_major": 2,
       "version_minor": 0
      },
      "text/plain": [
       "frank-wolfe:   0%|          | 0/10 [00:00<?, ?it/s]"
      ]
     },
     "metadata": {},
     "output_type": "display_data"
    },
    {
     "data": {
      "application/vnd.jupyter.widget-view+json": {
       "model_id": "3c543e549ec0448ab1ffea3348383f74",
       "version_major": 2,
       "version_minor": 0
      },
      "text/plain": [
       "frank-wolfe:   0%|          | 0/10 [00:00<?, ?it/s]"
      ]
     },
     "metadata": {},
     "output_type": "display_data"
    },
    {
     "data": {
      "application/vnd.jupyter.widget-view+json": {
       "model_id": "cf43e8c38dd54b798901cee0f4485c18",
       "version_major": 2,
       "version_minor": 0
      },
      "text/plain": [
       "frank-wolfe:   0%|          | 0/10 [00:00<?, ?it/s]"
      ]
     },
     "metadata": {},
     "output_type": "display_data"
    },
    {
     "data": {
      "application/vnd.jupyter.widget-view+json": {
       "model_id": "d22e7e35a31541ffb42d7ade844faa44",
       "version_major": 2,
       "version_minor": 0
      },
      "text/plain": [
       "frank-wolfe:   0%|          | 0/10 [00:00<?, ?it/s]"
      ]
     },
     "metadata": {},
     "output_type": "display_data"
    },
    {
     "data": {
      "application/vnd.jupyter.widget-view+json": {
       "model_id": "342185a37da741659d0f18c52c87dc28",
       "version_major": 2,
       "version_minor": 0
      },
      "text/plain": [
       "λ:   0%|          | 0/15 [00:00<?, ?it/s]"
      ]
     },
     "metadata": {},
     "output_type": "display_data"
    },
    {
     "data": {
      "application/vnd.jupyter.widget-view+json": {
       "model_id": "bf26c42e406a4accb14873693c4c148b",
       "version_major": 2,
       "version_minor": 0
      },
      "text/plain": [
       "frank-wolfe:   0%|          | 0/10 [00:00<?, ?it/s]"
      ]
     },
     "metadata": {},
     "output_type": "display_data"
    },
    {
     "name": "stderr",
     "output_type": "stream",
     "text": [
      "/opt/anaconda3/lib/python3.11/site-packages/fugal/sinkhorn.py:176: UserWarning: An output with one or more elements was resized since it had shape [100], which does not match the required output shape [1, 100]. This behavior is deprecated, and in a future PyTorch release outputs will not be resized unless they have zero elements. You can explicitly reuse an out tensor t by resizing it, inplace, to zero elements with t.resize_(0). (Triggered internally at /opt/conda/conda-bld/pytorch_1711403378171/work/aten/src/ATen/native/Resize.cpp:28.)\n",
      "  torch.matmul(u, K, out=KTu)\n"
     ]
    },
    {
     "data": {
      "application/vnd.jupyter.widget-view+json": {
       "model_id": "8da6438461c0407b9d810deaa9ef7512",
       "version_major": 2,
       "version_minor": 0
      },
      "text/plain": [
       "frank-wolfe:   0%|          | 0/10 [00:00<?, ?it/s]"
      ]
     },
     "metadata": {},
     "output_type": "display_data"
    },
    {
     "data": {
      "application/vnd.jupyter.widget-view+json": {
       "model_id": "746bf22ea85242ed82b542c7a54e9e74",
       "version_major": 2,
       "version_minor": 0
      },
      "text/plain": [
       "frank-wolfe:   0%|          | 0/10 [00:00<?, ?it/s]"
      ]
     },
     "metadata": {},
     "output_type": "display_data"
    },
    {
     "data": {
      "application/vnd.jupyter.widget-view+json": {
       "model_id": "ef743d6985dc4692a0b7ccdb711e60bb",
       "version_major": 2,
       "version_minor": 0
      },
      "text/plain": [
       "frank-wolfe:   0%|          | 0/10 [00:00<?, ?it/s]"
      ]
     },
     "metadata": {},
     "output_type": "display_data"
    },
    {
     "data": {
      "application/vnd.jupyter.widget-view+json": {
       "model_id": "de849d52c3ad4be5a2d3910850c4f838",
       "version_major": 2,
       "version_minor": 0
      },
      "text/plain": [
       "frank-wolfe:   0%|          | 0/10 [00:00<?, ?it/s]"
      ]
     },
     "metadata": {},
     "output_type": "display_data"
    },
    {
     "data": {
      "application/vnd.jupyter.widget-view+json": {
       "model_id": "423f3905538a47328001a338e42f51c7",
       "version_major": 2,
       "version_minor": 0
      },
      "text/plain": [
       "frank-wolfe:   0%|          | 0/10 [00:00<?, ?it/s]"
      ]
     },
     "metadata": {},
     "output_type": "display_data"
    },
    {
     "data": {
      "application/vnd.jupyter.widget-view+json": {
       "model_id": "361e4d72b3be4a648b0eeccc19b6dc87",
       "version_major": 2,
       "version_minor": 0
      },
      "text/plain": [
       "frank-wolfe:   0%|          | 0/10 [00:00<?, ?it/s]"
      ]
     },
     "metadata": {},
     "output_type": "display_data"
    },
    {
     "data": {
      "application/vnd.jupyter.widget-view+json": {
       "model_id": "961016e9a27b4c79a42f78ef1f38b2df",
       "version_major": 2,
       "version_minor": 0
      },
      "text/plain": [
       "frank-wolfe:   0%|          | 0/10 [00:00<?, ?it/s]"
      ]
     },
     "metadata": {},
     "output_type": "display_data"
    },
    {
     "data": {
      "application/vnd.jupyter.widget-view+json": {
       "model_id": "5e38944651e54ab6ad027c2f5fea307b",
       "version_major": 2,
       "version_minor": 0
      },
      "text/plain": [
       "frank-wolfe:   0%|          | 0/10 [00:00<?, ?it/s]"
      ]
     },
     "metadata": {},
     "output_type": "display_data"
    },
    {
     "data": {
      "application/vnd.jupyter.widget-view+json": {
       "model_id": "62ec2af1632a47ccbda1e97b591acdc7",
       "version_major": 2,
       "version_minor": 0
      },
      "text/plain": [
       "frank-wolfe:   0%|          | 0/10 [00:00<?, ?it/s]"
      ]
     },
     "metadata": {},
     "output_type": "display_data"
    },
    {
     "data": {
      "application/vnd.jupyter.widget-view+json": {
       "model_id": "057d078f23cb4112a8e0965005c2d7e5",
       "version_major": 2,
       "version_minor": 0
      },
      "text/plain": [
       "frank-wolfe:   0%|          | 0/10 [00:00<?, ?it/s]"
      ]
     },
     "metadata": {},
     "output_type": "display_data"
    },
    {
     "data": {
      "application/vnd.jupyter.widget-view+json": {
       "model_id": "43e4a341e3f045a1bfa52e5236f5f9a5",
       "version_major": 2,
       "version_minor": 0
      },
      "text/plain": [
       "frank-wolfe:   0%|          | 0/10 [00:00<?, ?it/s]"
      ]
     },
     "metadata": {},
     "output_type": "display_data"
    },
    {
     "data": {
      "application/vnd.jupyter.widget-view+json": {
       "model_id": "e8b76a428bab416182212fe00d5209ed",
       "version_major": 2,
       "version_minor": 0
      },
      "text/plain": [
       "frank-wolfe:   0%|          | 0/10 [00:00<?, ?it/s]"
      ]
     },
     "metadata": {},
     "output_type": "display_data"
    },
    {
     "data": {
      "application/vnd.jupyter.widget-view+json": {
       "model_id": "422ae09061fd428d9cee5051f549f8cb",
       "version_major": 2,
       "version_minor": 0
      },
      "text/plain": [
       "frank-wolfe:   0%|          | 0/10 [00:00<?, ?it/s]"
      ]
     },
     "metadata": {},
     "output_type": "display_data"
    },
    {
     "data": {
      "application/vnd.jupyter.widget-view+json": {
       "model_id": "c6b34cb641624c979d4c6e3845c831a2",
       "version_major": 2,
       "version_minor": 0
      },
      "text/plain": [
       "frank-wolfe:   0%|          | 0/10 [00:00<?, ?it/s]"
      ]
     },
     "metadata": {},
     "output_type": "display_data"
    },
    {
     "name": "stdout",
     "output_type": "stream",
     "text": [
      "3892736394\n",
      "[Result(ics=0.053156146179401995, ec=0.053156146179401995, sss=0.027303754266211604, accuracy=0.02, profile=Profile(sinkhorn_profiles=[SinkhornProfile(errors=[], iteration_count=11, time=0.0012247040271759033), SinkhornProfile(errors=[], iteration_count=11, time=0.0009062399864196777), SinkhornProfile(errors=[], iteration_count=11, time=0.0008529279828071594), SinkhornProfile(errors=[], iteration_count=11, time=0.0008477759957313538), SinkhornProfile(errors=[], iteration_count=11, time=0.0008407040238380433), SinkhornProfile(errors=[], iteration_count=11, time=0.000847872018814087), SinkhornProfile(errors=[], iteration_count=11, time=0.0008929280042648315), SinkhornProfile(errors=[], iteration_count=11, time=0.0008353599905967712), SinkhornProfile(errors=[], iteration_count=11, time=0.0008253440260887146), SinkhornProfile(errors=[], iteration_count=11, time=0.0008447999954223633), SinkhornProfile(errors=[], iteration_count=11, time=0.001082368016242981), SinkhornProfile(errors=[], iteration_count=11, time=0.000834559977054596), SinkhornProfile(errors=[], iteration_count=11, time=0.000843775987625122), SinkhornProfile(errors=[], iteration_count=11, time=0.0008355839848518371), SinkhornProfile(errors=[], iteration_count=11, time=0.0008232960104942322), SinkhornProfile(errors=[], iteration_count=11, time=0.0008395839929580688), SinkhornProfile(errors=[], iteration_count=11, time=0.0009431040287017822), SinkhornProfile(errors=[], iteration_count=11, time=0.0008550400137901307), SinkhornProfile(errors=[], iteration_count=11, time=0.000851967990398407), SinkhornProfile(errors=[], iteration_count=11, time=0.0008314880132675171), SinkhornProfile(errors=[], iteration_count=11, time=0.00107315194606781), SinkhornProfile(errors=[], iteration_count=11, time=0.0008386560082435608), SinkhornProfile(errors=[], iteration_count=11, time=0.0008335360288619996), SinkhornProfile(errors=[], iteration_count=11, time=0.000851967990398407), SinkhornProfile(errors=[], iteration_count=11, time=0.0008204159736633301), SinkhornProfile(errors=[], iteration_count=11, time=0.0008213440179824829), SinkhornProfile(errors=[], iteration_count=11, time=0.0008427519798278808), SinkhornProfile(errors=[], iteration_count=11, time=0.0008202239871025086), SinkhornProfile(errors=[], iteration_count=11, time=0.0009728000164031983), SinkhornProfile(errors=[], iteration_count=11, time=0.0007994880080223084), SinkhornProfile(errors=[], iteration_count=11, time=0.001060927987098694), SinkhornProfile(errors=[], iteration_count=11, time=0.0008386560082435608), SinkhornProfile(errors=[], iteration_count=11, time=0.0008407040238380433), SinkhornProfile(errors=[], iteration_count=11, time=0.0007874879837036133), SinkhornProfile(errors=[], iteration_count=11, time=0.0008693760037422181), SinkhornProfile(errors=[], iteration_count=11, time=0.0007854080200195312), SinkhornProfile(errors=[], iteration_count=11, time=0.0007833600044250488), SinkhornProfile(errors=[], iteration_count=11, time=0.0008417279720306397), SinkhornProfile(errors=[], iteration_count=11, time=0.0008435199856758117), SinkhornProfile(errors=[], iteration_count=11, time=0.0008335360288619996), SinkhornProfile(errors=[], iteration_count=21, time=0.0017397760152816774), SinkhornProfile(errors=[], iteration_count=21, time=0.0014632960557937622), SinkhornProfile(errors=[], iteration_count=21, time=0.0014624320268630982), SinkhornProfile(errors=[], iteration_count=21, time=0.001388543963432312), SinkhornProfile(errors=[], iteration_count=21, time=0.0015421439409255982), SinkhornProfile(errors=[], iteration_count=21, time=0.0015301439762115479), SinkhornProfile(errors=[], iteration_count=21, time=0.0014437119960784913), SinkhornProfile(errors=[], iteration_count=11, time=0.0007852479815483093), SinkhornProfile(errors=[], iteration_count=11, time=0.0008099200129508972), SinkhornProfile(errors=[], iteration_count=11, time=0.0007864320278167724), SinkhornProfile(errors=[], iteration_count=21, time=0.001834112048149109), SinkhornProfile(errors=[], iteration_count=31, time=0.0020357439517974855), SinkhornProfile(errors=[], iteration_count=31, time=0.0020459520816802977), SinkhornProfile(errors=[], iteration_count=21, time=0.001440991997718811), SinkhornProfile(errors=[], iteration_count=21, time=0.0014417920112609864), SinkhornProfile(errors=[], iteration_count=21, time=0.0014602240324020385), SinkhornProfile(errors=[], iteration_count=21, time=0.0013905919790267944), SinkhornProfile(errors=[], iteration_count=21, time=0.0015073280334472656), SinkhornProfile(errors=[], iteration_count=21, time=0.0013876800537109375), SinkhornProfile(errors=[], iteration_count=11, time=0.0008079360127449035), SinkhornProfile(errors=[], iteration_count=21, time=0.0017285120487213134), SinkhornProfile(errors=[], iteration_count=41, time=0.0026984639167785644), SinkhornProfile(errors=[], iteration_count=31, time=0.0020317440032958985), SinkhornProfile(errors=[], iteration_count=31, time=0.002095103979110718), SinkhornProfile(errors=[], iteration_count=31, time=0.0021575679779052732), SinkhornProfile(errors=[], iteration_count=21, time=0.0014243839979171753), SinkhornProfile(errors=[], iteration_count=21, time=0.001446176052093506), SinkhornProfile(errors=[], iteration_count=21, time=0.001434880018234253), SinkhornProfile(errors=[], iteration_count=21, time=0.0014448640346527099), SinkhornProfile(errors=[], iteration_count=21, time=0.001498144030570984), SinkhornProfile(errors=[], iteration_count=31, time=0.002135040044784546), SinkhornProfile(errors=[], iteration_count=51, time=0.0033669118881225588), SinkhornProfile(errors=[], iteration_count=41, time=0.002603008031845093), SinkhornProfile(errors=[], iteration_count=31, time=0.004221951961517334), SinkhornProfile(errors=[], iteration_count=31, time=0.002037791967391968), SinkhornProfile(errors=[], iteration_count=31, time=0.002012160062789917), SinkhornProfile(errors=[], iteration_count=31, time=0.0020849919319152832), SinkhornProfile(errors=[], iteration_count=21, time=0.0014039039611816405), SinkhornProfile(errors=[], iteration_count=31, time=0.0020080640316009523), SinkhornProfile(errors=[], iteration_count=21, time=0.0014471360445022583), SinkhornProfile(errors=[], iteration_count=31, time=0.0023644158840179443), SinkhornProfile(errors=[], iteration_count=61, time=0.00406217622756958), SinkhornProfile(errors=[], iteration_count=41, time=0.0027432959079742433), SinkhornProfile(errors=[], iteration_count=41, time=0.002783423900604248), SinkhornProfile(errors=[], iteration_count=41, time=0.0027351040840148926), SinkhornProfile(errors=[], iteration_count=41, time=0.0027144639492034913), SinkhornProfile(errors=[], iteration_count=31, time=0.0020203518867492674), SinkhornProfile(errors=[], iteration_count=31, time=0.0020244159698486327), SinkhornProfile(errors=[], iteration_count=31, time=0.002115583896636963), SinkhornProfile(errors=[], iteration_count=21, time=0.0014816639423370361), SinkhornProfile(errors=[], iteration_count=41, time=0.0031047680377960206), SinkhornProfile(errors=[], iteration_count=51, time=0.0032808001041412355), SinkhornProfile(errors=[], iteration_count=61, time=0.004055840015411377), SinkhornProfile(errors=[], iteration_count=51, time=0.0033199360370635986), SinkhornProfile(errors=[], iteration_count=41, time=0.0026123840808868408), SinkhornProfile(errors=[], iteration_count=41, time=0.0026729280948638917), SinkhornProfile(errors=[], iteration_count=41, time=0.0026707520484924316), SinkhornProfile(errors=[], iteration_count=41, time=0.002617311954498291), SinkhornProfile(errors=[], iteration_count=41, time=0.0026173439025878906), SinkhornProfile(errors=[], iteration_count=41, time=0.002603231906890869), SinkhornProfile(errors=[], iteration_count=51, time=0.0035880959033966066), SinkhornProfile(errors=[], iteration_count=11, time=0.0008050879836082459), SinkhornProfile(errors=[], iteration_count=11, time=0.0008273919820785523), SinkhornProfile(errors=[], iteration_count=11, time=0.0007854080200195312), SinkhornProfile(errors=[], iteration_count=11, time=0.0007884479761123657), SinkhornProfile(errors=[], iteration_count=11, time=0.0008079360127449035), SinkhornProfile(errors=[], iteration_count=11, time=0.000794368028640747), SinkhornProfile(errors=[], iteration_count=11, time=0.0008458240032196045), SinkhornProfile(errors=[], iteration_count=11, time=0.0008191999793052674), SinkhornProfile(errors=[], iteration_count=11, time=0.000809984028339386), SinkhornProfile(errors=[], iteration_count=11, time=0.000843775987625122), SinkhornProfile(errors=[], iteration_count=11, time=0.0008458240032196045), SinkhornProfile(errors=[], iteration_count=11, time=0.0008458240032196045), SinkhornProfile(errors=[], iteration_count=11, time=0.000796671986579895), SinkhornProfile(errors=[], iteration_count=11, time=0.0008642560243606567), SinkhornProfile(errors=[], iteration_count=11, time=0.0008222720026969909), SinkhornProfile(errors=[], iteration_count=11, time=0.0008458240032196045), SinkhornProfile(errors=[], iteration_count=11, time=0.0008344640135765076), SinkhornProfile(errors=[], iteration_count=11, time=0.000814079999923706), SinkhornProfile(errors=[], iteration_count=11, time=0.0008294079899787902), SinkhornProfile(errors=[], iteration_count=11, time=0.0010351999998092652), SinkhornProfile(errors=[], iteration_count=11, time=0.0008183040022850036), SinkhornProfile(errors=[], iteration_count=11, time=0.0018381119966506957), SinkhornProfile(errors=[], iteration_count=11, time=0.0011950080394744873), SinkhornProfile(errors=[], iteration_count=11, time=0.0008273919820785523), SinkhornProfile(errors=[], iteration_count=11, time=0.0008181759715080261), SinkhornProfile(errors=[], iteration_count=11, time=0.0008232960104942322), SinkhornProfile(errors=[], iteration_count=11, time=0.0008231040239334107), SinkhornProfile(errors=[], iteration_count=11, time=0.0008427519798278808), SinkhornProfile(errors=[], iteration_count=11, time=0.0007841280102729798), SinkhornProfile(errors=[], iteration_count=11, time=0.0010575360059738158), SinkhornProfile(errors=[], iteration_count=11, time=0.0008397759795188903), SinkhornProfile(errors=[], iteration_count=11, time=0.0008376320004463196), SinkhornProfile(errors=[], iteration_count=11, time=0.0007923200130462647), SinkhornProfile(errors=[], iteration_count=11, time=0.0009521279931068421), SinkhornProfile(errors=[], iteration_count=11, time=0.0008243200182914734), SinkhornProfile(errors=[], iteration_count=11, time=0.0008109440207481384), SinkhornProfile(errors=[], iteration_count=11, time=0.0008117759823799134), SinkhornProfile(errors=[], iteration_count=11, time=0.0008396160006523132), SinkhornProfile(errors=[], iteration_count=11, time=0.0008170560002326965), SinkhornProfile(errors=[], iteration_count=11, time=0.0011100800037384033), SinkhornProfile(errors=[], iteration_count=11, time=0.0008286399841308594), SinkhornProfile(errors=[], iteration_count=11, time=0.0007925760149955749), SinkhornProfile(errors=[], iteration_count=11, time=0.0008448320031166077), SinkhornProfile(errors=[], iteration_count=11, time=0.0007954879999160767), SinkhornProfile(errors=[], iteration_count=11, time=0.0008284159898757934), SinkhornProfile(errors=[], iteration_count=11, time=0.0008182399868965149), SinkhornProfile(errors=[], iteration_count=11, time=0.0008262400031089782), SinkhornProfile(errors=[], iteration_count=11, time=0.0008117759823799134), SinkhornProfile(errors=[], iteration_count=11, time=0.0008201919794082642)], phase_times={<Phase.FEATURE_EXTRACTION: 'FEATURE_EXTRACTION'>: 0.0004299199879169464, <Phase.GRADIENT: 'GRADIENT'>: 0.09814089614152907, <Phase.SINKHORN: 'SINKHORN'>: 0.21116902351379396, <Phase.HUNGARIAN: 'HUNGARIAN'>: 0.009052160263061524}, time=0.4302942752838135, max_memory=178688)), Result(ics=0.06312292358803986, ec=0.06312292358803986, sss=0.032590051457975985, accuracy=0.0, profile=Profile(sinkhorn_profiles=[], phase_times={<Phase.FEATURE_EXTRACTION: 'FEATURE_EXTRACTION'>: 0.02041029930114746, <Phase.GRADIENT: 'GRADIENT'>: 0.0897212028503418, <Phase.SINKHORN: 'SINKHORN'>: 4.563509464263916, <Phase.HUNGARIAN: 'HUNGARIAN'>: 0.00029921531677246094}, time=4.797215461730957, max_memory=None))]\n"
     ]
    },
    {
     "data": {
      "image/png": "[encoded data removed]",
      "text/plain": [
       "<Figure size 640x480 with 1 Axes>"
      ]
     },
     "metadata": {},
     "output_type": "display_data"
    }
   ],
   "source": [
    "config = Config(\n",
    "    device='cuda:1', \n",
    "    sinkhorn_method=SinkhornMethod.LOG,\n",
    "    dtype=torch.float32,\n",
    "    sinkhorn_threshold=1e-3,\n",
    "    sinkhorn_iterations=500,\n",
    "    mu=2,\n",
    "    iter_count=15,\n",
    "    use_sparse_adjacency=True,\n",
    "    sinkhorn_cache_size=1,\n",
    "    frank_wolfe_threshold=0,\n",
    "    recompute_distance=True,\n",
    "    hungarian_method=HungarianMethod.DOUBLE_GREEDY,\n",
    "    )\n",
    "experiment = Experiment(\n",
    "    graphs=[\n",
    "        Graph(GraphKind.NEWMAN_WATTS, {\n",
    "            'n': 100,\n",
    "            'p': 0.001,\n",
    "            'k': 7,\n",
    "        }),\n",
    "    ],\n",
    "    algorithms=[\n",
    "        Algorithm(config, use_fugal=False),\n",
    "        Algorithm(config, use_fugal=True),\n",
    "    ],\n",
    "    noise_levels=[\n",
    "        NoiseLevel(0., 0.0, False),\n",
    "    ],\n",
    ")\n",
    "results = experiment.run()\n",
    "\n",
    "print(experiment.seed)\n",
    "#[print(res) for res in results.results[:][0]]\n",
    "print(results.results)\n",
    "\n",
    "folder = \"results\"\n",
    "if not os.path.exists(folder): os.makedirs(folder)\n",
    "#results.dump(folder)"
   ]
  }
 ],
 "metadata": {
  "kernelspec": {
   "display_name": "venv",
   "language": "python",
   "name": "python3"
  },
  "language_info": {
   "codemirror_mode": {
    "name": "ipython",
    "version": 3
   },
   "file_extension": ".py",
   "mimetype": "text/x-python",
   "name": "python",
   "nbconvert_exporter": "python",
   "pygments_lexer": "ipython3",
   "version": "3.11.7"
  }
 },
 "nbformat": 4,
 "nbformat_minor": 2
}
