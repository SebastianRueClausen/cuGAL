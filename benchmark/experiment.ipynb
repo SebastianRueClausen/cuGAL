{
    "cells": [
        {
            "cell_type": "code",
            "execution_count": 2,
            "metadata": {},
            "outputs": [
                {
                    "name": "stderr",
                    "output_type": "stream",
                    "text": [
                        "/home/andreas.hansen/miniconda3/lib/python3.12/site-packages/tqdm/auto.py:21: TqdmWarning: IProgress not found. Please update jupyter and ipywidgets. See https://ipywidgets.readthedocs.io/en/stable/user_install.html\n",
                        "  from .autonotebook import tqdm as notebook_tqdm\n"
                    ]
                }
            ],
            "source": [
                "from experiment import *\n",
                "from cugal.config import SinkhornMethod, HungarianMethod, Config\n",
                "import os\n",
                "import torch"
            ]
        },
        {
            "cell_type": "code",
            "execution_count": 3,
            "metadata": {},
            "outputs": [
                {
                    "name": "stderr",
                    "output_type": "stream",
                    "text": [
                        "λ: 100%|██████████| 15/15 [00:00<00:00, 43.29it/s]\n"
                    ]
                },
                {
                    "ename": "",
                    "evalue": "",
                    "output_type": "error",
                    "traceback": [
                        "\u001b[1;31mThe Kernel crashed while executing code in the current cell or a previous cell. \n",
                        "\u001b[1;31mPlease review the code in the cell(s) to identify a possible cause of the failure. \n",
                        "\u001b[1;31mClick <a href='https://aka.ms/vscodeJupyterKernelCrash'>here</a> for more info. \n",
                        "\u001b[1;31mView Jupyter <a href='command:jupyter.viewOutput'>log</a> for further details."
                    ]
                }
            ],
            "source": [
                "config = Config(\n",
                "    device='cuda:1', \n",
                "    sinkhorn_method=SinkhornMethod.LOG,\n",
                "    dtype=torch.float32,\n",
                "    sinkhorn_threshold=1e-3,\n",
                "    sinkhorn_iterations=500,\n",
                "    mu=2,\n",
                "    iter_count=15,\n",
                "    use_sparse_adjacency=True,\n",
                "    sinkhorn_cache_size=1,\n",
                "    frank_wolfe_threshold=0,\n",
                "    recompute_distance=True,\n",
                "    hungarian_method=HungarianMethod.DENSE,\n",
                "    )\n",
                "experiment = Experiment(\n",
                "    graphs=[\n",
                "        #Graph(GraphKind.PREDEFINED_GRAPHS, {\n",
                "        #    'source_file': 'data/MultiMagna/yeast0_Y2H1.txt',\n",
                "        #    'target_file': f'data/MultiMagna/yeast{i}_Y2H1.txt',\n",
                "        #}) for i in [25]#range(25, 6)#26, 5)\n",
                "        Graph(GraphKind.NEWMAN_WATTS, {'n': 100, 'k': 3, 'p': 0.05}),\n",
                "        #Graph(GraphKind.CA_HEP, {}),\n",
                "    ],\n",
                "    algorithms=[\n",
                "        Algorithm(config, use_fugal=False),\n",
                "        #Algorithm(config, use_fugal=True),\n",
                "    ],\n",
                "    noise_levels=[\n",
                "        NoiseLevel(0.0, 0.0, False),\n",
                "    ],\n",
                "    save_alignment=True,\n",
                ")\n",
                "results = experiment.run()\n",
                "\n",
                "print([result.accuracy for _, _, _, result in results.all_results()])\n",
                "\n",
                "#folder = \"results\"\n",
                "#if not os.path.exists(folder): os.makedirs(folder)\n",
                "#results.dump(folder)"
            ]
        }
    ],
    "metadata": {
        "kernelspec": {
            "display_name": "base",
            "language": "python",
            "name": "python3"
        },
        "language_info": {
            "codemirror_mode": {
                "name": "ipython",
                "version": 3
            },
            "file_extension": ".py",
            "mimetype": "text/x-python",
            "name": "python",
            "nbconvert_exporter": "python",
            "pygments_lexer": "ipython3",
            "version": "3.12.4"
        }
    },
    "nbformat": 4,
    "nbformat_minor": 2
}
