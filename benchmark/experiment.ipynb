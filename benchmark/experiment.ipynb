{
    "cells": [
        {
            "cell_type": "code",
            "execution_count": 1,
            "metadata": {},
            "outputs": [],
            "source": [
                "from experiment import *\n",
                "from cugal.config import SinkhornMethod, HungarianMethod, Config\n",
                "import os\n",
                "import torch"
            ]
        },
        {
            "cell_type": "code",
            "execution_count": 2,
            "metadata": {},
            "outputs": [
                {
                    "name": "stdout",
                    "output_type": "stream",
                    "text": [
                        "Fugal\n"
                    ]
                },
                {
                    "name": "stderr",
                    "output_type": "stream",
                    "text": [
                        "/opt/anaconda3/lib/python3.11/site-packages/FUGAL/sinkhorn.py:177: UserWarning: An output with one or more elements was resized since it had shape [1004], which does not match the required output shape [1, 1004]. This behavior is deprecated, and in a future PyTorch release outputs will not be resized unless they have zero elements. You can explicitly reuse an out tensor t by resizing it, inplace, to zero elements with t.resize_(0). (Triggered internally at /opt/conda/conda-bld/pytorch_1711403378171/work/aten/src/ATen/native/Resize.cpp:28.)\n",
                        "  torch.matmul(u, K, out=KTu)\n"
                    ]
                },
                {
                    "data": {
                        "application/vnd.jupyter.widget-view+json": {
                            "model_id": "82cc8892d6d34023b329b99b35adc0a5",
                            "version_major": 2,
                            "version_minor": 0
                        },
                        "text/plain": [
                            "λ:   0%|          | 0/15 [00:00<?, ?it/s]"
                        ]
                    },
                    "metadata": {},
                    "output_type": "display_data"
                },
                {
                    "data": {
                        "application/vnd.jupyter.widget-view+json": {
                            "model_id": "f4eaa775171841abbcc7b9f6da1dee50",
                            "version_major": 2,
                            "version_minor": 0
                        },
                        "text/plain": [
                            "frank-wolfe:   0%|          | 0/10 [00:00<?, ?it/s]"
                        ]
                    },
                    "metadata": {},
                    "output_type": "display_data"
                },
                {
                    "data": {
                        "application/vnd.jupyter.widget-view+json": {
                            "model_id": "f2d4535561bb480fa474cfe9697d3448",
                            "version_major": 2,
                            "version_minor": 0
                        },
                        "text/plain": [
                            "frank-wolfe:   0%|          | 0/10 [00:00<?, ?it/s]"
                        ]
                    },
                    "metadata": {},
                    "output_type": "display_data"
                },
                {
                    "data": {
                        "application/vnd.jupyter.widget-view+json": {
                            "model_id": "4f06d54401774b608f9164729994f6de",
                            "version_major": 2,
                            "version_minor": 0
                        },
                        "text/plain": [
                            "frank-wolfe:   0%|          | 0/10 [00:00<?, ?it/s]"
                        ]
                    },
                    "metadata": {},
                    "output_type": "display_data"
                },
                {
                    "data": {
                        "application/vnd.jupyter.widget-view+json": {
                            "model_id": "e857ad48a63947cfb3cc2b29f3304afa",
                            "version_major": 2,
                            "version_minor": 0
                        },
                        "text/plain": [
                            "frank-wolfe:   0%|          | 0/10 [00:00<?, ?it/s]"
                        ]
                    },
                    "metadata": {},
                    "output_type": "display_data"
                },
                {
                    "data": {
                        "application/vnd.jupyter.widget-view+json": {
                            "model_id": "779f68382777433e8e1040c6d8fc7f91",
                            "version_major": 2,
                            "version_minor": 0
                        },
                        "text/plain": [
                            "frank-wolfe:   0%|          | 0/10 [00:00<?, ?it/s]"
                        ]
                    },
                    "metadata": {},
                    "output_type": "display_data"
                },
                {
                    "data": {
                        "application/vnd.jupyter.widget-view+json": {
                            "model_id": "428462a1d29b48fdb30d95534f7ccafe",
                            "version_major": 2,
                            "version_minor": 0
                        },
                        "text/plain": [
                            "frank-wolfe:   0%|          | 0/10 [00:00<?, ?it/s]"
                        ]
                    },
                    "metadata": {},
                    "output_type": "display_data"
                },
                {
                    "data": {
                        "application/vnd.jupyter.widget-view+json": {
                            "model_id": "aac9304b19d14060b479e418b236f7f1",
                            "version_major": 2,
                            "version_minor": 0
                        },
                        "text/plain": [
                            "frank-wolfe:   0%|          | 0/10 [00:00<?, ?it/s]"
                        ]
                    },
                    "metadata": {},
                    "output_type": "display_data"
                },
                {
                    "data": {
                        "application/vnd.jupyter.widget-view+json": {
                            "model_id": "3694cd0e335245a4951653e18cfde1d9",
                            "version_major": 2,
                            "version_minor": 0
                        },
                        "text/plain": [
                            "frank-wolfe:   0%|          | 0/10 [00:00<?, ?it/s]"
                        ]
                    },
                    "metadata": {},
                    "output_type": "display_data"
                },
                {
                    "data": {
                        "application/vnd.jupyter.widget-view+json": {
                            "model_id": "8111e186b4ff45d88e136ee0c6541567",
                            "version_major": 2,
                            "version_minor": 0
                        },
                        "text/plain": [
                            "frank-wolfe:   0%|          | 0/10 [00:00<?, ?it/s]"
                        ]
                    },
                    "metadata": {},
                    "output_type": "display_data"
                },
                {
                    "data": {
                        "application/vnd.jupyter.widget-view+json": {
                            "model_id": "01480d91f50d4084a55fed85a75ce883",
                            "version_major": 2,
                            "version_minor": 0
                        },
                        "text/plain": [
                            "frank-wolfe:   0%|          | 0/10 [00:00<?, ?it/s]"
                        ]
                    },
                    "metadata": {},
                    "output_type": "display_data"
                },
                {
                    "data": {
                        "application/vnd.jupyter.widget-view+json": {
                            "model_id": "0459102018a540c08f6e660b68ef129f",
                            "version_major": 2,
                            "version_minor": 0
                        },
                        "text/plain": [
                            "frank-wolfe:   0%|          | 0/10 [00:00<?, ?it/s]"
                        ]
                    },
                    "metadata": {},
                    "output_type": "display_data"
                },
                {
                    "data": {
                        "application/vnd.jupyter.widget-view+json": {
                            "model_id": "8c3b80db990a4b049a88f35e209263d7",
                            "version_major": 2,
                            "version_minor": 0
                        },
                        "text/plain": [
                            "frank-wolfe:   0%|          | 0/10 [00:00<?, ?it/s]"
                        ]
                    },
                    "metadata": {},
                    "output_type": "display_data"
                },
                {
                    "data": {
                        "application/vnd.jupyter.widget-view+json": {
                            "model_id": "dcad4da358174359a11f884b5f24ab3b",
                            "version_major": 2,
                            "version_minor": 0
                        },
                        "text/plain": [
                            "frank-wolfe:   0%|          | 0/10 [00:00<?, ?it/s]"
                        ]
                    },
                    "metadata": {},
                    "output_type": "display_data"
                },
                {
                    "data": {
                        "application/vnd.jupyter.widget-view+json": {
                            "model_id": "ecda655bb6c6491f99e2b77aee42abe0",
                            "version_major": 2,
                            "version_minor": 0
                        },
                        "text/plain": [
                            "frank-wolfe:   0%|          | 0/10 [00:00<?, ?it/s]"
                        ]
                    },
                    "metadata": {},
                    "output_type": "display_data"
                },
                {
                    "data": {
                        "application/vnd.jupyter.widget-view+json": {
                            "model_id": "46651f276ab945fa93c5c417d7a22395",
                            "version_major": 2,
                            "version_minor": 0
                        },
                        "text/plain": [
                            "frank-wolfe:   0%|          | 0/10 [00:00<?, ?it/s]"
                        ]
                    },
                    "metadata": {},
                    "output_type": "display_data"
                },
                {
                    "name": "stdout",
                    "output_type": "stream",
                    "text": [
                        "Sparsity: 0.9986745715141296\n",
                        "\n",
                        "[0.5617529880478087, 0.7280876494023905]\n"
                    ]
                }
            ],
            "source": [
                "config = Config(\n",
                "    device='cuda:1', \n",
                "    sinkhorn_method=SinkhornMethod.LOG,\n",
                "    dtype=torch.float32,\n",
                "    sinkhorn_threshold=1e-3,\n",
                "    sinkhorn_iterations=500,\n",
                "    mu=2,\n",
                "    iter_count=15,\n",
                "    use_sparse_adjacency=True,\n",
                "    sinkhorn_cache_size=1,\n",
                "    frank_wolfe_threshold=0,\n",
                "    recompute_distance=True,\n",
                "    hungarian_method=HungarianMethod.DOUBLE_GREEDY,\n",
                "    )\n",
                "experiment = Experiment(\n",
                "    graphs=[\n",
                "        Graph(GraphKind.PREDEFINED_GRAPHS, {\n",
                "            'source_file': 'data/MultiMagna/yeast0_Y2H1.txt',\n",
                "            'target_file': f'data/MultiMagna/yeast{i}_Y2H1.txt',\n",
                "        }) for i in [25]#range(25, 6)#26, 5)\n",
                "    ],\n",
                "    algorithms=[\n",
                "        Algorithm(config, use_fugal=True),\n",
                "        Algorithm(config, use_fugal=False),\n",
                "    ],\n",
                "    noise_levels=[\n",
                "        NoiseLevel(0.0, 0.0, False),\n",
                "    ],\n",
                "    save_alignment=True,\n",
                ")\n",
                "results = experiment.run()\n",
                "\n",
                "print([result.accuracy for _, _, _, result in results.all_results()])\n",
                "\n",
                "#folder = \"results\"\n",
                "#if not os.path.exists(folder): os.makedirs(folder)\n",
                "#results.dump(folder)"
            ]
        }
    ],
    "metadata": {
        "kernelspec": {
            "display_name": "venv",
            "language": "python",
            "name": "python3"
        },
        "language_info": {
            "codemirror_mode": {
                "name": "ipython",
                "version": 3
            },
            "file_extension": ".py",
            "mimetype": "text/x-python",
            "name": "python",
            "nbconvert_exporter": "python",
            "pygments_lexer": "ipython3",
            "version": "3.11.7"
        }
    },
    "nbformat": 4,
    "nbformat_minor": 2
}
