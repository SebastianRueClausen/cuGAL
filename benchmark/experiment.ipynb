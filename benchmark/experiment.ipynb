{
 "cells": [
  {
   "cell_type": "code",
   "execution_count": 1,
   "metadata": {},
   "outputs": [
    {
     "name": "stderr",
     "output_type": "stream",
     "text": [
      "/Users/sebastianrueclausen/Code/cuGAL/venv/lib/python3.12/site-packages/tqdm/auto.py:21: TqdmWarning: IProgress not found. Please update jupyter and ipywidgets. See https://ipywidgets.readthedocs.io/en/stable/user_install.html\n",
      "  from .autonotebook import tqdm as notebook_tqdm\n"
     ]
    }
   ],
   "source": [
    "#%matplotlib tk\n",
    "from experiment import *\n",
    "from dataclasses import replace\n",
    "import os\n",
    "import torch\n",
    "from cugal.config import SinkhornMethod, HungarianMethod"
   ]
  },
  {
   "cell_type": "code",
   "execution_count": null,
   "metadata": {},
   "outputs": [
    {
     "name": "stdout",
     "output_type": "stream",
     "text": [
      "Running on CA_NETSCIENCE {'n': 128, 'k': 7, 'p': 0.1}\n",
      "Running with noise level {'source_noise': 0.1, 'target_noise': 0.0, 'refill_edges': False}\n",
      "Running with algorithm Cugal {'safe_mode': False, 'device': 'cpu', 'dtype': 'float32', 'sinkhorn_regularization': 0.5, 'sinkhorn_method': 'LOG', 'sinkhorn_iterations': 300, 'sinkhorn_threshold': 0.0001, 'sinkhorn_eval_freq': 10, 'mu': 2.0, 'iter_count': 15, 'frank_wolfe_iter_count': 10, 'frank_wolfe_threshold': None, 'use_sparse_adjacency': False, 'sinkhorn_cache_size': 1, 'sinkhorn_momentum_start': None, 'recompute_distance': False, 'hungarian_method': 'SCIPY'}\n"
     ]
    },
    {
     "name": "stderr",
     "output_type": "stream",
     "text": [
      "λ: 100%|██████████| 15/15 [00:06<00:00,  2.42it/s]\n",
      "λ: 100%|██████████| 15/15 [00:07<00:00,  2.06it/s]\n",
      "λ: 100%|██████████| 15/15 [00:08<00:00,  1.81it/s]\n",
      "λ: 100%|██████████| 15/15 [00:06<00:00,  2.34it/s]\n",
      "λ: 100%|██████████| 15/15 [00:08<00:00,  1.78it/s]\n"
     ]
    },
    {
     "name": "stdout",
     "output_type": "stream",
     "text": [
      "average\n",
      "Running with algorithm Cugal {'safe_mode': False, 'device': 'cpu', 'dtype': 'float32', 'sinkhorn_regularization': 0.5, 'sinkhorn_method': 'LOG', 'sinkhorn_iterations': 300, 'sinkhorn_threshold': 0.0001, 'sinkhorn_eval_freq': 10, 'mu': 2.0, 'iter_count': 15, 'frank_wolfe_iter_count': 10, 'frank_wolfe_threshold': None, 'use_sparse_adjacency': False, 'sinkhorn_cache_size': 1, 'sinkhorn_momentum_start': 40, 'recompute_distance': False, 'hungarian_method': 'SCIPY'}\n"
     ]
    },
    {
     "name": "stderr",
     "output_type": "stream",
     "text": [
      "λ: 100%|██████████| 15/15 [00:04<00:00,  3.02it/s]\n",
      "λ: 100%|██████████| 15/15 [00:06<00:00,  2.42it/s]\n",
      "λ: 100%|██████████| 15/15 [00:06<00:00,  2.33it/s]\n",
      "λ: 100%|██████████| 15/15 [00:06<00:00,  2.45it/s]\n",
      "λ: 100%|██████████| 15/15 [00:07<00:00,  2.06it/s]\n"
     ]
    },
    {
     "name": "stdout",
     "output_type": "stream",
     "text": [
      "average\n",
      "0.6242744063324539\n",
      "7.392257261276245\n",
      "[300, 300, 300, 300, 300, 300, 300, 300, 300, 300, 300, 300, 300, 300, 300, 300, 300, 300, 300, 300, 300, 300, 300, 300, 300, 300, 300, 300, 300, 300, 300, 300, 300, 300, 300, 300, 300, 300, 300, 300, 300, 300, 300, 300, 300, 300, 300, 300, 300, 300, 300, 242, 242, 242, 242, 242, 242, 242, 242, 242, 190, 186, 186, 186, 186, 186, 184, 184, 184, 184, 136, 126, 126, 126, 126, 126, 126, 126, 126, 126, 27, 13, 11, 13, 13, 13, 13, 11, 11, 13, 25, 11, 11, 11, 11, 11, 11, 11, 11, 11, 25, 11, 11, 11, 11, 11, 11, 11, 11, 11, 25, 11, 11, 11, 11, 11, 11, 11, 11, 11, 25, 11, 11, 11, 11, 11, 11, 11, 11, 11, 31, 11, 11, 11, 11, 11, 11, 11, 11, 11, 25, 11, 11, 11, 11, 11, 11, 11, 11, 11]\n",
      "0.6269129287598945\n",
      "6.257170581817627\n",
      "[300, 300, 300, 300, 300, 300, 300, 300, 300, 300, 300, 300, 300, 300, 300, 300, 300, 300, 300, 300, 300, 300, 300, 300, 300, 300, 300, 300, 300, 300, 300, 300, 300, 300, 300, 300, 300, 300, 300, 300, 300, 300, 300, 300, 242, 242, 300, 242, 242, 242, 242, 242, 242, 242, 242, 70, 130, 126, 68, 68, 130, 128, 70, 11, 11, 11, 11, 11, 11, 17, 76, 68, 11, 68, 11, 11, 11, 11, 11, 11, 21, 11, 11, 11, 11, 11, 11, 11, 11, 11, 21, 11, 11, 11, 11, 11, 11, 11, 11, 11, 21, 11, 11, 11, 11, 11, 11, 11, 11, 11, 21, 11, 11, 11, 11, 11, 11, 11, 11, 11, 21, 11, 11, 11, 11, 11, 11, 11, 11, 11, 21, 11, 11, 11, 11, 11, 11, 11, 11, 11, 21, 11, 11, 11, 11, 11, 11, 11, 11, 11]\n"
     ]
    }
   ],
   "source": [
    "config = Config(\n",
    "    sinkhorn_method=SinkhornMethod.LOG,\n",
    "    hungarian_method=HungarianMethod.SCIPY,\n",
    "    device=\"cpu\",\n",
    "    dtype=torch.float32, \n",
    "    sinkhorn_cache_size=1,\n",
    "    sinkhorn_regularization=0.5,\n",
    "    sinkhorn_iterations=300,\n",
    "    sinkhorn_threshold=0.0001,\n",
    "    mu=2.0,\n",
    "    use_sparse_adjacency=False,\n",
    "    recompute_distance=False,\n",
    "    sinkhorn_eval_freq=10,\n",
    "    frank_wolfe_threshold=None,\n",
    "    frank_wolfe_iter_count=10,\n",
    "    iter_count=15,\n",
    ")\n",
    "\n",
    "experiment = Experiment(\n",
    "    graphs=[\n",
    "        Graph(GraphKind.CA_NETSCIENCE, {\n",
    "            'n': 128,\n",
    "            'k': 7,\n",
    "            'p': 0.1,\n",
    "        }),\n",
    "    ],\n",
    "    algorithms=[\n",
    "        #Algorithm(replace(config, iter_count = 15), use_fugal=False),\n",
    "        #Algorithm(replace(config, iter_count = 1), use_fugal=False),\n",
    "        Algorithm(config, use_fugal=False),\n",
    "        Algorithm(replace(config, sinkhorn_momentum_start=40), use_fugal=False),\n",
    "        # Algorithm(replace(config, hungarian_method=HungarianMethod.DENSE), use_fugal=False),\n",
    "        # Algorithm(replace(config, hungarian_method=HungarianMethod.GREEDY), use_fugal=False),\n",
    "    ],\n",
    "    noise_levels=[\n",
    "        NoiseLevel(0.1, 0.0, False),\n",
    "    ],\n",
    "    num_runs=10,\n",
    ")\n",
    "results = experiment.run()\n",
    "\n",
    "folder = \"results\"\n",
    "if not os.path.exists(folder): os.makedirs(folder)\n",
    "# results.dump(folder)\\n\",\n",
    "\n",
    "\n",
    "for graph, noise_level, algorithm, result in results.all_results():\n",
    "    print(result.accuracy)\n",
    "    print(result.profile.time)\n",
    "    print([profile.iteration_count for profile in result.profile.sinkhorn_profiles])\n",
    "    \"\"\"\n",
    "    print('graph:', graph)\n",
    "    print('noise level:', noise_level)\n",
    "    print('algorithm:', algorithm)\n",
    "    print()\n",
    "    print(result)\n",
    "    print()\n",
    "    \"\"\""
   ]
  },
  {
   "cell_type": "code",
   "execution_count": 2,
   "metadata": {},
   "outputs": [
    {
     "name": "stdout",
     "output_type": "stream",
     "text": [
      "161.05666666666667 122.64333333333333\n"
     ]
    },
    {
     "name": "stderr",
     "output_type": "stream",
     "text": [
      "<>:33: SyntaxWarning: invalid escape sequence '\\l'\n",
      "<>:33: SyntaxWarning: invalid escape sequence '\\l'\n",
      "/var/folders/j1/g9r2fg9n15b7tl6rq981h9y40000gn/T/ipykernel_9802/2699971752.py:33: SyntaxWarning: invalid escape sequence '\\l'\n",
      "  plt.xlabel('$\\lambda$')\n"
     ]
    }
   ],
   "source": [
    "import matplotlib\n",
    "import matplotlib.pyplot as plt\n",
    "import numpy as np\n",
    "import matplotlib.ticker as ticker\n",
    "\n",
    "\n",
    "matplotlib.use(\"pgf\")\n",
    "matplotlib.rcParams.update({\n",
    "    \"pgf.texsystem\": \"pdflatex\",\n",
    "    'font.family': 'serif',\n",
    "    'font.size' : 7,\n",
    "    'text.usetex': True,\n",
    "    'pgf.rcfonts': False,\n",
    "})\n",
    "\n",
    "# Average two runs.\n",
    "standard = (np.array([300, 300, 300, 300, 300, 300, 300, 300, 300, 300, 300, 300, 300, 300, 300, 300, 300, 300, 300, 300, 300, 300, 300, 300, 300, 300, 300, 300, 300, 300, 300, 300, 300, 300, 300, 300, 300, 300, 300, 300, 300, 300, 300, 300, 300, 300, 300, 300, 300, 300, 246, 244, 242, 242, 242, 242, 242, 242, 242, 242, 188, 242, 242, 242, 242, 242, 184, 242, 224, 242, 132, 126, 126, 126, 126, 126, 126, 126, 126, 126, 76, 68, 68, 68, 68, 68, 68, 68, 68, 68, 23, 11, 11, 11, 11, 11, 11, 11, 11, 11, 21, 11, 11, 11, 11, 11, 11, 11, 11, 11, 21, 11, 11, 11, 11, 11, 11, 11, 11, 11, 21, 11, 11, 11, 11, 11, 11, 11, 11, 11, 21, 11, 11, 11, 11, 11, 11, 11, 11, 11, 21, 11, 11, 11, 11, 11, 11, 11, 11, 11])\n",
    "    + np.array([300, 300, 300, 300, 300, 300, 300, 300, 300, 300, 300, 300, 300, 300, 300, 300, 300, 300, 300, 300, 300, 300, 300, 300, 300, 300, 300, 300, 300, 300, 300, 300, 300, 300, 300, 300, 300, 300, 300, 300, 300, 300, 300, 300, 300, 300, 300, 300, 300, 300, 300, 275, 274, 274, 273, 273, 273, 273, 272, 272, 246, 244, 243, 242, 242, 242, 243, 271, 271, 242, 192, 213, 213, 213, 185, 184, 213, 184, 185, 184, 133, 126, 126, 126, 126, 126, 126, 126, 126, 126, 107, 97, 97, 97, 97, 97, 97, 97, 97, 97, 79, 68, 68, 68, 68, 68, 68, 68, 68, 68, 52, 39, 39, 39, 39, 39, 39, 39, 39, 39, 25, 11, 11, 11, 11, 11, 11, 11, 11, 11, 25, 11, 11, 11, 11, 11, 11, 11, 11, 11, 26, 11, 11, 11, 11, 11, 11, 11, 11, 11])) / 2\n",
    "accel = (np.array([300, 300, 300, 300, 300, 300, 300, 300, 300, 300, 300, 300, 300, 300, 300, 300, 300, 300, 300, 300, 300, 300, 300, 300, 300, 300, 300, 300, 300, 300, 300, 300, 300, 300, 300, 300, 300, 300, 300, 300, 300, 300, 300, 246, 246, 300, 244, 242, 300, 242, 188, 184, 184, 184, 184, 74, 128, 70, 68, 68, 132, 126, 68, 13, 13, 68, 11, 11, 11, 11, 132, 126, 126, 11, 11, 11, 11, 68, 11, 11, 76, 11, 11, 11, 11, 15, 15, 11, 11, 11, 23, 11, 11, 11, 11, 11, 11, 11, 11, 11, 23, 11, 11, 11, 11, 11, 11, 11, 11, 11, 23, 11, 11, 11, 11, 11, 11, 11, 11, 11, 23, 11, 11, 11, 11, 11, 11, 11, 11, 11, 23, 11, 11, 11, 11, 11, 11, 11, 11, 11, 23, 11, 11, 11, 11, 11, 11, 11, 11, 11])\n",
    "    + np.array([300, 300, 300, 300, 300, 300, 300, 300, 300, 300, 300, 300, 300, 300, 300, 300, 300, 300, 300, 300, 300, 300, 300, 300, 300, 300, 300, 300, 300, 300, 300, 300, 300, 300, 300, 300, 300, 300, 300, 300, 300, 300, 300, 300, 300, 300, 300, 300, 300, 271, 244, 186, 187, 185, 184, 126, 126, 126, 155, 68, 108, 97, 97, 97, 68, 68, 68, 68, 68, 68, 80, 68, 68, 40, 40, 12, 12, 12, 11, 11, 52, 68, 39, 39, 39, 11, 12, 11, 12, 12, 53, 39, 39, 11, 11, 11, 11, 11, 11, 12, 25, 11, 11, 11, 11, 11, 11, 11, 11, 11, 25, 11, 11, 11, 11, 11, 11, 11, 11, 11, 25, 11, 11, 11, 11, 11, 11, 11, 11, 11, 25, 11, 11, 11, 11, 11, 11, 11, 11, 11, 26, 11, 11, 11, 11, 11, 11, 11, 11, 11])) / 2\n",
    "\n",
    "print(np.mean(standard), np.mean(accel))\n",
    "\n",
    "# Hack to align.\n",
    "x = np.linspace(-0.5, 149.5, 150)\n",
    "\n",
    "for l in range(0, 150, 10):\n",
    "    plt.axvline(x = l, linestyle='--', alpha=0.5, linewidth=1)\n",
    "\n",
    "plt.plot(x, standard, label='No Acceleration')\n",
    "plt.plot(x, accel, label='Acceleration')\n",
    "\n",
    "plt.xlabel('$\\lambda$')\n",
    "plt.ylabel('Sinkhorn-Knopp iterations')\n",
    "\n",
    "def format_x_axis(x, pos):\n",
    "    return f'{int(x//10)}'\n",
    "formatter = ticker.FuncFormatter(format_x_axis)\n",
    "plt.gca().xaxis.set_major_formatter(formatter)\n",
    "\n",
    "plt.legend()\n",
    "\n",
    "# Show the plot\n",
    "# plt.show()\n",
    "plt.savefig('figure.pgf')"
   ]
  }
 ],
 "metadata": {
  "kernelspec": {
   "display_name": "venv",
   "language": "python",
   "name": "python3"
  },
  "language_info": {
   "codemirror_mode": {
    "name": "ipython",
    "version": 3
   },
   "file_extension": ".py",
   "mimetype": "text/x-python",
   "name": "python",
   "nbconvert_exporter": "python",
   "pygments_lexer": "ipython3",
   "version": "3.12.2"
  }
 },
 "nbformat": 4,
 "nbformat_minor": 2
}
