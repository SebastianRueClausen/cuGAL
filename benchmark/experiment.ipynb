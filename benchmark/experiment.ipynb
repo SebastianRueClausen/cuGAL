{
<<<<<<< HEAD
 "cells": [
  {
   "cell_type": "code",
   "execution_count": 1,
   "metadata": {},
   "outputs": [
    {
     "name": "stderr",
     "output_type": "stream",
     "text": [
      "/home/sebastian/src/bachelor/venv/lib/python3.12/site-packages/tqdm/auto.py:21: TqdmWarning: IProgress not found. Please update jupyter and ipywidgets. See https://ipywidgets.readthedocs.io/en/stable/user_install.html\n",
      "  from .autonotebook import tqdm as notebook_tqdm\n"
     ]
    }
   ],
   "source": [
    "from experiment import *\n",
    "import os\n",
    "import torch\n",
    "from cugal.config import SinkhornMethod, HungarianMethod"
   ]
  },
  {
   "cell_type": "code",
   "execution_count": 3,
   "metadata": {},
   "outputs": [
    {
     "name": "stderr",
     "output_type": "stream",
     "text": [
      "λ: 100%|██████████| 15/15 [00:00<00:00, 30.66it/s]"
     ]
    },
    {
     "name": "stdout",
     "output_type": "stream",
     "text": [
      "graph: NEWMAN_WATTS {'n': 256, 'k': 7, 'p': 0.4}\n",
      "noise level: {'source_noise': 0.075, 'target_noise': 0.0, 'refill_edges': False}\n",
      "algorithm: Cugal {'safe_mode': False, 'device': 'cuda', 'dtype': 'float32', 'sinkhorn_regularization': 1.0, 'sinkhorn_method': 'LOG', 'sinkhorn_iterations': 500, 'sinkhorn_threshold': 0.001, 'sinkhorn_eval_freq': 10, 'mu': 2.0, 'iter_count': 15, 'frank_wolfe_iter_count': 10, 'frank_wolfe_threshold': 0.1, 'use_sparse_adjacency': True, 'sinkhorn_cache_size': 1, 'recompute_distance': True, 'hungarian_method': 'SCIPY'}\n",
      "\n",
      "Induced Conserved Structure (ICS)  0.18593894542090658\n",
      "Edge Correctness (EC)              0.20039880358923232\n",
      "Symmetric Substructure Score (SSS) 0.10674455655868295\n",
      "Accuracy                           0.9296875\n",
      "Time (seconds)                     0.6464076042175293\n",
      "\n"
     ]
    },
    {
     "name": "stderr",
     "output_type": "stream",
     "text": [
      "\n"
     ]
    }
   ],
   "source": [
    "config = Config(\n",
    "    sinkhorn_method=SinkhornMethod.LOG,\n",
    "    hungarian_method=HungarianMethod.DENSE,\n",
    "    device=\"cuda\",\n",
    "    dtype=torch.float32, \n",
    "    sinkhorn_cache_size=1,\n",
    "    mu=2.0,\n",
    "    use_sparse_adjacency=True,\n",
    "    recompute_distance=True,\n",
    "    frank_wolfe_threshold=0.1,\n",
    ")\n",
    "\n",
    "experiment = Experiment(\n",
    "    graphs=[\n",
    "        Graph(GraphKind.NEWMAN_WATTS, {\n",
    "            'n': 256,\n",
    "            'k': 7,\n",
    "            'p': 0.4,\n",
    "        }),\n",
    "    ],\n",
    "    algorithms=[\n",
    "        Algorithm(config, use_fugal=False),\n",
    "        # Algorithm(Config(), use_fugal=True),\\n\",\n",
    "    ],\n",
    "    noise_levels=[\n",
    "        NoiseLevel(0.075, 0.0, False),\n",
    "    ],\n",
    ")\n",
    "results = experiment.run()\n",
    "\n",
    "folder = \"results\"\n",
    "if not os.path.exists(folder): os.makedirs(folder)\n",
    "# results.dump(folder)\\n\",\n",
    "\n",
    "for graph, noise_level, algorithm, result in results.all_results():\n",
    "    print('graph:', graph)\n",
    "    print('noise level:', noise_level)\n",
    "    print('algorithm:', algorithm)\n",
    "    print()\n",
    "    print(result)\n",
    "    print()"
   ]
  }
 ],
 "metadata": {
  "kernelspec": {
   "display_name": "venv",
   "language": "python",
   "name": "python3"
  },
  "language_info": {
   "codemirror_mode": {
    "name": "ipython",
    "version": 3
   },
   "file_extension": ".py",
   "mimetype": "text/x-python",
   "name": "python",
   "nbconvert_exporter": "python",
   "pygments_lexer": "ipython3",
   "version": "3.12.3"
  }
 },
 "nbformat": 4,
 "nbformat_minor": 2
=======
    "cells": [
        {
            "cell_type": "code",
            "execution_count": 1,
            "metadata": {},
            "outputs": [],
            "source": [
                "from experiment import *\n",
                "from cugal.config import SinkhornMethod, HungarianMethod, Config\n",
                "import os\n",
                "import torch"
            ]
        },
        {
            "cell_type": "code",
            "execution_count": 2,
            "metadata": {},
            "outputs": [
                {
                    "name": "stdout",
                    "output_type": "stream",
                    "text": [
                        "Fugal\n"
                    ]
                },
                {
                    "name": "stderr",
                    "output_type": "stream",
                    "text": [
                        "/opt/anaconda3/lib/python3.11/site-packages/FUGAL/sinkhorn.py:177: UserWarning: An output with one or more elements was resized since it had shape [1004], which does not match the required output shape [1, 1004]. This behavior is deprecated, and in a future PyTorch release outputs will not be resized unless they have zero elements. You can explicitly reuse an out tensor t by resizing it, inplace, to zero elements with t.resize_(0). (Triggered internally at /opt/conda/conda-bld/pytorch_1711403378171/work/aten/src/ATen/native/Resize.cpp:28.)\n",
                        "  torch.matmul(u, K, out=KTu)\n"
                    ]
                },
                {
                    "data": {
                        "application/vnd.jupyter.widget-view+json": {
                            "model_id": "82cc8892d6d34023b329b99b35adc0a5",
                            "version_major": 2,
                            "version_minor": 0
                        },
                        "text/plain": [
                            "λ:   0%|          | 0/15 [00:00<?, ?it/s]"
                        ]
                    },
                    "metadata": {},
                    "output_type": "display_data"
                },
                {
                    "data": {
                        "application/vnd.jupyter.widget-view+json": {
                            "model_id": "f4eaa775171841abbcc7b9f6da1dee50",
                            "version_major": 2,
                            "version_minor": 0
                        },
                        "text/plain": [
                            "frank-wolfe:   0%|          | 0/10 [00:00<?, ?it/s]"
                        ]
                    },
                    "metadata": {},
                    "output_type": "display_data"
                },
                {
                    "data": {
                        "application/vnd.jupyter.widget-view+json": {
                            "model_id": "f2d4535561bb480fa474cfe9697d3448",
                            "version_major": 2,
                            "version_minor": 0
                        },
                        "text/plain": [
                            "frank-wolfe:   0%|          | 0/10 [00:00<?, ?it/s]"
                        ]
                    },
                    "metadata": {},
                    "output_type": "display_data"
                },
                {
                    "data": {
                        "application/vnd.jupyter.widget-view+json": {
                            "model_id": "4f06d54401774b608f9164729994f6de",
                            "version_major": 2,
                            "version_minor": 0
                        },
                        "text/plain": [
                            "frank-wolfe:   0%|          | 0/10 [00:00<?, ?it/s]"
                        ]
                    },
                    "metadata": {},
                    "output_type": "display_data"
                },
                {
                    "data": {
                        "application/vnd.jupyter.widget-view+json": {
                            "model_id": "e857ad48a63947cfb3cc2b29f3304afa",
                            "version_major": 2,
                            "version_minor": 0
                        },
                        "text/plain": [
                            "frank-wolfe:   0%|          | 0/10 [00:00<?, ?it/s]"
                        ]
                    },
                    "metadata": {},
                    "output_type": "display_data"
                },
                {
                    "data": {
                        "application/vnd.jupyter.widget-view+json": {
                            "model_id": "779f68382777433e8e1040c6d8fc7f91",
                            "version_major": 2,
                            "version_minor": 0
                        },
                        "text/plain": [
                            "frank-wolfe:   0%|          | 0/10 [00:00<?, ?it/s]"
                        ]
                    },
                    "metadata": {},
                    "output_type": "display_data"
                },
                {
                    "data": {
                        "application/vnd.jupyter.widget-view+json": {
                            "model_id": "428462a1d29b48fdb30d95534f7ccafe",
                            "version_major": 2,
                            "version_minor": 0
                        },
                        "text/plain": [
                            "frank-wolfe:   0%|          | 0/10 [00:00<?, ?it/s]"
                        ]
                    },
                    "metadata": {},
                    "output_type": "display_data"
                },
                {
                    "data": {
                        "application/vnd.jupyter.widget-view+json": {
                            "model_id": "aac9304b19d14060b479e418b236f7f1",
                            "version_major": 2,
                            "version_minor": 0
                        },
                        "text/plain": [
                            "frank-wolfe:   0%|          | 0/10 [00:00<?, ?it/s]"
                        ]
                    },
                    "metadata": {},
                    "output_type": "display_data"
                },
                {
                    "data": {
                        "application/vnd.jupyter.widget-view+json": {
                            "model_id": "3694cd0e335245a4951653e18cfde1d9",
                            "version_major": 2,
                            "version_minor": 0
                        },
                        "text/plain": [
                            "frank-wolfe:   0%|          | 0/10 [00:00<?, ?it/s]"
                        ]
                    },
                    "metadata": {},
                    "output_type": "display_data"
                },
                {
                    "data": {
                        "application/vnd.jupyter.widget-view+json": {
                            "model_id": "8111e186b4ff45d88e136ee0c6541567",
                            "version_major": 2,
                            "version_minor": 0
                        },
                        "text/plain": [
                            "frank-wolfe:   0%|          | 0/10 [00:00<?, ?it/s]"
                        ]
                    },
                    "metadata": {},
                    "output_type": "display_data"
                },
                {
                    "data": {
                        "application/vnd.jupyter.widget-view+json": {
                            "model_id": "01480d91f50d4084a55fed85a75ce883",
                            "version_major": 2,
                            "version_minor": 0
                        },
                        "text/plain": [
                            "frank-wolfe:   0%|          | 0/10 [00:00<?, ?it/s]"
                        ]
                    },
                    "metadata": {},
                    "output_type": "display_data"
                },
                {
                    "data": {
                        "application/vnd.jupyter.widget-view+json": {
                            "model_id": "0459102018a540c08f6e660b68ef129f",
                            "version_major": 2,
                            "version_minor": 0
                        },
                        "text/plain": [
                            "frank-wolfe:   0%|          | 0/10 [00:00<?, ?it/s]"
                        ]
                    },
                    "metadata": {},
                    "output_type": "display_data"
                },
                {
                    "data": {
                        "application/vnd.jupyter.widget-view+json": {
                            "model_id": "8c3b80db990a4b049a88f35e209263d7",
                            "version_major": 2,
                            "version_minor": 0
                        },
                        "text/plain": [
                            "frank-wolfe:   0%|          | 0/10 [00:00<?, ?it/s]"
                        ]
                    },
                    "metadata": {},
                    "output_type": "display_data"
                },
                {
                    "data": {
                        "application/vnd.jupyter.widget-view+json": {
                            "model_id": "dcad4da358174359a11f884b5f24ab3b",
                            "version_major": 2,
                            "version_minor": 0
                        },
                        "text/plain": [
                            "frank-wolfe:   0%|          | 0/10 [00:00<?, ?it/s]"
                        ]
                    },
                    "metadata": {},
                    "output_type": "display_data"
                },
                {
                    "data": {
                        "application/vnd.jupyter.widget-view+json": {
                            "model_id": "ecda655bb6c6491f99e2b77aee42abe0",
                            "version_major": 2,
                            "version_minor": 0
                        },
                        "text/plain": [
                            "frank-wolfe:   0%|          | 0/10 [00:00<?, ?it/s]"
                        ]
                    },
                    "metadata": {},
                    "output_type": "display_data"
                },
                {
                    "data": {
                        "application/vnd.jupyter.widget-view+json": {
                            "model_id": "46651f276ab945fa93c5c417d7a22395",
                            "version_major": 2,
                            "version_minor": 0
                        },
                        "text/plain": [
                            "frank-wolfe:   0%|          | 0/10 [00:00<?, ?it/s]"
                        ]
                    },
                    "metadata": {},
                    "output_type": "display_data"
                },
                {
                    "name": "stdout",
                    "output_type": "stream",
                    "text": [
                        "Sparsity: 0.9986745715141296\n",
                        "\n",
                        "[0.5617529880478087, 0.7280876494023905]\n"
                    ]
                }
            ],
            "source": [
                "config = Config(\n",
                "    device='cuda:1', \n",
                "    sinkhorn_method=SinkhornMethod.LOG,\n",
                "    dtype=torch.float32,\n",
                "    sinkhorn_threshold=1e-3,\n",
                "    sinkhorn_iterations=500,\n",
                "    mu=2,\n",
                "    iter_count=15,\n",
                "    use_sparse_adjacency=True,\n",
                "    sinkhorn_cache_size=1,\n",
                "    frank_wolfe_threshold=0,\n",
                "    recompute_distance=True,\n",
                "    hungarian_method=HungarianMethod.DOUBLE_GREEDY,\n",
                "    )\n",
                "experiment = Experiment(\n",
                "    graphs=[\n",
                "        Graph(GraphKind.PREDEFINED_GRAPHS, {\n",
                "            'source_file': 'data/MultiMagna/yeast0_Y2H1.txt',\n",
                "            'target_file': f'data/MultiMagna/yeast{i}_Y2H1.txt',\n",
                "        }) for i in [25]#range(25, 6)#26, 5)\n",
                "    ],\n",
                "    algorithms=[\n",
                "        Algorithm(config, use_fugal=True),\n",
                "        Algorithm(config, use_fugal=False),\n",
                "    ],\n",
                "    noise_levels=[\n",
                "        NoiseLevel(0.0, 0.0, False),\n",
                "    ],\n",
                "    save_alignment=True,\n",
                ")\n",
                "results = experiment.run()\n",
                "\n",
                "print([result.accuracy for _, _, _, result in results.all_results()])\n",
                "\n",
                "#folder = \"results\"\n",
                "#if not os.path.exists(folder): os.makedirs(folder)\n",
                "#results.dump(folder)"
            ]
        }
    ],
    "metadata": {
        "kernelspec": {
            "display_name": "venv",
            "language": "python",
            "name": "python3"
        },
        "language_info": {
            "codemirror_mode": {
                "name": "ipython",
                "version": 3
            },
            "file_extension": ".py",
            "mimetype": "text/x-python",
            "name": "python",
            "nbconvert_exporter": "python",
            "pygments_lexer": "ipython3",
            "version": "3.11.7"
        }
    },
    "nbformat": 4,
    "nbformat_minor": 2
>>>>>>> refs/remotes/origin/main
}
