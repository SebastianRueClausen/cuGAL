{
    "cells": [
        {
            "cell_type": "code",
            "execution_count": 1,
            "metadata": {},
            "outputs": [],
            "source": [
                "from experiment import *\n",
                "from cugal.config import SinkhornMethod, HungarianMethod, Config\n",
                "import os\n",
                "import torch"
            ]
        },
        {
            "cell_type": "code",
            "execution_count": 2,
            "metadata": {},
            "outputs": [
                {
                    "data": {
                        "application/vnd.jupyter.widget-view+json": {
                            "model_id": "8bf601c5a19c4ec283500a2a25533a3d",
                            "version_major": 2,
                            "version_minor": 0
                        },
                        "text/plain": [
                            "λ:   0%|          | 0/15 [00:00<?, ?it/s]"
                        ]
                    },
                    "metadata": {},
                    "output_type": "display_data"
                },
                {
                    "data": {
                        "application/vnd.jupyter.widget-view+json": {
                            "model_id": "fee2ab54721f4edf85a05d3c95ea7a96",
                            "version_major": 2,
                            "version_minor": 0
                        },
                        "text/plain": [
                            "frank-wolfe:   0%|          | 0/10 [00:00<?, ?it/s]"
                        ]
                    },
                    "metadata": {},
                    "output_type": "display_data"
                },
                {
                    "ename": "OutOfMemoryError",
                    "evalue": "CUDA out of memory. Tried to allocate 17.61 GiB. GPU 1 has a total capacity of 23.69 GiB of which 5.64 GiB is free. Including non-PyTorch memory, this process has 17.92 GiB memory in use. Of the allocated memory 17.61 GiB is allocated by PyTorch, and 18.98 MiB is reserved by PyTorch but unallocated. If reserved but unallocated memory is large try setting PYTORCH_CUDA_ALLOC_CONF=expandable_segments:True to avoid fragmentation.  See documentation for Memory Management  (https://pytorch.org/docs/stable/notes/cuda.html#environment-variables)",
                    "output_type": "error",
                    "traceback": [
                        "\u001b[0;31m---------------------------------------------------------------------------\u001b[0m",
                        "\u001b[0;31mOutOfMemoryError\u001b[0m                          Traceback (most recent call last)",
                        "Cell \u001b[0;32mIn[2], line 33\u001b[0m\n\u001b[1;32m      1\u001b[0m config \u001b[38;5;241m=\u001b[39m Config(\n\u001b[1;32m      2\u001b[0m     device\u001b[38;5;241m=\u001b[39m\u001b[38;5;124m'\u001b[39m\u001b[38;5;124mcuda:1\u001b[39m\u001b[38;5;124m'\u001b[39m, \n\u001b[1;32m      3\u001b[0m     sinkhorn_method\u001b[38;5;241m=\u001b[39mSinkhornMethod\u001b[38;5;241m.\u001b[39mLOG,\n\u001b[0;32m   (...)\u001b[0m\n\u001b[1;32m     13\u001b[0m     hungarian_method\u001b[38;5;241m=\u001b[39mHungarianMethod\u001b[38;5;241m.\u001b[39mDENSE,\n\u001b[1;32m     14\u001b[0m     )\n\u001b[1;32m     15\u001b[0m experiment \u001b[38;5;241m=\u001b[39m Experiment(\n\u001b[1;32m     16\u001b[0m     graphs\u001b[38;5;241m=\u001b[39m[\n\u001b[1;32m     17\u001b[0m         \u001b[38;5;66;03m#Graph(GraphKind.PREDEFINED_GRAPHS, {\u001b[39;00m\n\u001b[0;32m   (...)\u001b[0m\n\u001b[1;32m     31\u001b[0m     save_alignment\u001b[38;5;241m=\u001b[39m\u001b[38;5;28;01mTrue\u001b[39;00m,\n\u001b[1;32m     32\u001b[0m )\n\u001b[0;32m---> 33\u001b[0m results \u001b[38;5;241m=\u001b[39m experiment\u001b[38;5;241m.\u001b[39mrun()\n\u001b[1;32m     35\u001b[0m \u001b[38;5;28mprint\u001b[39m([result\u001b[38;5;241m.\u001b[39maccuracy \u001b[38;5;28;01mfor\u001b[39;00m _, _, _, result \u001b[38;5;129;01min\u001b[39;00m results\u001b[38;5;241m.\u001b[39mall_results()])\n",
                        "File \u001b[0;32m~/bachelor/benchmark/experiment.py:359\u001b[0m, in \u001b[0;36mExperiment.run\u001b[0;34m(self)\u001b[0m\n\u001b[1;32m    356\u001b[0m     profile\u001b[38;5;241m.\u001b[39mtime \u001b[38;5;241m=\u001b[39m TimeStamp(\n\u001b[1;32m    357\u001b[0m         \u001b[38;5;124m'\u001b[39m\u001b[38;5;124mcpu\u001b[39m\u001b[38;5;124m'\u001b[39m)\u001b[38;5;241m.\u001b[39melapsed_seconds(start_time)\n\u001b[1;32m    358\u001b[0m \u001b[38;5;28;01melse\u001b[39;00m:\n\u001b[0;32m--> 359\u001b[0m     _, answer \u001b[38;5;241m=\u001b[39m cugal(\n\u001b[1;32m    360\u001b[0m         source, target, algorithm\u001b[38;5;241m.\u001b[39mconfig, profile)\n\u001b[1;32m    361\u001b[0m noise_results\u001b[38;5;241m.\u001b[39mappend(Result\u001b[38;5;241m.\u001b[39mcalculate(\n\u001b[1;32m    362\u001b[0m     profile,\n\u001b[1;32m    363\u001b[0m     nx\u001b[38;5;241m.\u001b[39mto_numpy_array(source),\n\u001b[0;32m   (...)\u001b[0m\n\u001b[1;32m    366\u001b[0m     source_mapping,\n\u001b[1;32m    367\u001b[0m ))\n\u001b[1;32m    369\u001b[0m \u001b[38;5;28;01mif\u001b[39;00m \u001b[38;5;28mself\u001b[39m\u001b[38;5;241m.\u001b[39msave_alignment:\n",
                        "File \u001b[0;32m/opt/anaconda3/lib/python3.11/site-packages/cugal/pred.py:245\u001b[0m, in \u001b[0;36mcugal\u001b[0;34m(source, target, config, profile)\u001b[0m\n\u001b[1;32m    242\u001b[0m profile\u001b[38;5;241m.\u001b[39mlog_time(start_time, Phase\u001b[38;5;241m.\u001b[39mFEATURE_EXTRACTION)\n\u001b[1;32m    244\u001b[0m \u001b[38;5;66;03m# Frank-Wolfe\u001b[39;00m\n\u001b[0;32m--> 245\u001b[0m quasi_permutation \u001b[38;5;241m=\u001b[39m find_quasi_permutation_matrix(\n\u001b[1;32m    246\u001b[0m     source, target, features, config, profile)\n\u001b[1;32m    247\u001b[0m \u001b[38;5;28;01mif\u001b[39;00m config\u001b[38;5;241m.\u001b[39msafe_mode:\n\u001b[1;32m    248\u001b[0m     \u001b[38;5;66;03m# check quasi_permutation tensor has no NaN values\u001b[39;00m\n\u001b[1;32m    249\u001b[0m     \u001b[38;5;28;01massert\u001b[39;00m quasi_permutation\u001b[38;5;241m.\u001b[39misfinite()\u001b[38;5;241m.\u001b[39mall(), \u001b[38;5;124m\"\u001b[39m\u001b[38;5;124mquasi_permutation tensor has NaN values\u001b[39m\u001b[38;5;124m\"\u001b[39m\n",
                        "File \u001b[0;32m/opt/anaconda3/lib/python3.11/site-packages/cugal/pred.py:117\u001b[0m, in \u001b[0;36mfind_quasi_permutation_matrix\u001b[0;34m(A, B, features, config, profile)\u001b[0m\n\u001b[1;32m    114\u001b[0m start_time \u001b[38;5;241m=\u001b[39m TimeStamp(config\u001b[38;5;241m.\u001b[39mdevice)\n\u001b[1;32m    115\u001b[0m gradient_function \u001b[38;5;241m=\u001b[39m partial(sparse_gradient, A, B, A, B) \\\n\u001b[1;32m    116\u001b[0m     \u001b[38;5;28;01mif\u001b[39;00m config\u001b[38;5;241m.\u001b[39muse_sparse_adjacency \u001b[38;5;28;01melse\u001b[39;00m partial(dense_gradient, A, B)\n\u001b[0;32m--> 117\u001b[0m gradient \u001b[38;5;241m=\u001b[39m gradient_function(P, features, λ)\n\u001b[1;32m    118\u001b[0m \u001b[38;5;66;03m#Save gradient to file for debugging. Add the iteration number to the filename.\u001b[39;00m\n\u001b[1;32m    119\u001b[0m \u001b[38;5;66;03m#np.savetxt(\"gradient\" + str(λ) + \".csv\", gradient.cpu().numpy(), delimiter=\",\")\u001b[39;00m\n\u001b[1;32m    120\u001b[0m profile\u001b[38;5;241m.\u001b[39mlog_time(start_time, Phase\u001b[38;5;241m.\u001b[39mGRADIENT)\n",
                        "File \u001b[0;32m/opt/anaconda3/lib/python3.11/site-packages/cugal/pred.py:54\u001b[0m, in \u001b[0;36msparse_gradient\u001b[0;34m(A, B, A_transpose, B_transpose, P, features, iteration)\u001b[0m\n\u001b[1;32m     45\u001b[0m \u001b[38;5;28;01mdef\u001b[39;00m \u001b[38;5;21msparse_gradient\u001b[39m(\n\u001b[1;32m     46\u001b[0m     A, B: Adjacency,\n\u001b[1;32m     47\u001b[0m     A_transpose: Adjacency,\n\u001b[0;32m   (...)\u001b[0m\n\u001b[1;32m     51\u001b[0m     iteration: \u001b[38;5;28mint\u001b[39m,\n\u001b[1;32m     52\u001b[0m ) \u001b[38;5;241m-\u001b[39m\u001b[38;5;241m>\u001b[39m torch\u001b[38;5;241m.\u001b[39mTensor:\n\u001b[1;32m     53\u001b[0m     \u001b[38;5;28;01mif\u001b[39;00m A \u001b[38;5;129;01mis\u001b[39;00m A_transpose \u001b[38;5;129;01mand\u001b[39;00m B \u001b[38;5;129;01mis\u001b[39;00m B_transpose:\n\u001b[0;32m---> 54\u001b[0m         gradient \u001b[38;5;241m=\u001b[39m B\u001b[38;5;241m.\u001b[39mmul(A\u001b[38;5;241m.\u001b[39mmul(P)\u001b[38;5;241m.\u001b[39mT)\u001b[38;5;241m.\u001b[39mT\n\u001b[1;32m     55\u001b[0m         gradient \u001b[38;5;241m*\u001b[39m\u001b[38;5;241m=\u001b[39m \u001b[38;5;241m-\u001b[39m\u001b[38;5;241m2\u001b[39m\n\u001b[1;32m     56\u001b[0m     \u001b[38;5;28;01melse\u001b[39;00m:\n",
                        "File \u001b[0;32m/opt/anaconda3/lib/python3.11/site-packages/cugal/adjacency.py:138\u001b[0m, in \u001b[0;36mAdjacency.mul\u001b[0;34m(self, matrix, negate_lhs)\u001b[0m\n\u001b[1;32m    131\u001b[0m \u001b[38;5;28;01massert\u001b[39;00m matrix\u001b[38;5;241m.\u001b[39mshape[\u001b[38;5;241m0\u001b[39m] \u001b[38;5;241m==\u001b[39m \u001b[38;5;28mself\u001b[39m\u001b[38;5;241m.\u001b[39mnumber_of_nodes(\n\u001b[1;32m    132\u001b[0m ) \u001b[38;5;129;01mand\u001b[39;00m matrix\u001b[38;5;241m.\u001b[39mshape[\u001b[38;5;241m1\u001b[39m] \u001b[38;5;241m==\u001b[39m \u001b[38;5;28mself\u001b[39m\u001b[38;5;241m.\u001b[39mnumber_of_nodes(), \u001b[38;5;124m\"\u001b[39m\u001b[38;5;124mmatrix must match size\u001b[39m\u001b[38;5;124m\"\u001b[39m\n\u001b[1;32m    134\u001b[0m use_cuda \u001b[38;5;241m=\u001b[39m \\\n\u001b[1;32m    135\u001b[0m     has_cuda \u001b[38;5;129;01mand\u001b[39;00m \u001b[38;5;124m\"\u001b[39m\u001b[38;5;124mcuda\u001b[39m\u001b[38;5;124m\"\u001b[39m \u001b[38;5;129;01min\u001b[39;00m \u001b[38;5;28mstr\u001b[39m(\n\u001b[1;32m    136\u001b[0m         matrix\u001b[38;5;241m.\u001b[39mdevice) \u001b[38;5;129;01mand\u001b[39;00m matrix\u001b[38;5;241m.\u001b[39mdtype \u001b[38;5;129;01min\u001b[39;00m [torch\u001b[38;5;241m.\u001b[39mfloat32, torch\u001b[38;5;241m.\u001b[39mfloat64]\n\u001b[0;32m--> 138\u001b[0m out \u001b[38;5;241m=\u001b[39m torch\u001b[38;5;241m.\u001b[39mempty_like(matrix)\n\u001b[1;32m    140\u001b[0m \u001b[38;5;28;01mif\u001b[39;00m use_cuda:\n\u001b[1;32m    141\u001b[0m     cuda_kernels\u001b[38;5;241m.\u001b[39madjacency_matmul(\n\u001b[1;32m    142\u001b[0m         \u001b[38;5;28mself\u001b[39m\u001b[38;5;241m.\u001b[39mcol_indices, \u001b[38;5;28mself\u001b[39m\u001b[38;5;241m.\u001b[39mrow_pointers, matrix, out, negate_lhs,\n\u001b[1;32m    143\u001b[0m     )\n",
                        "\u001b[0;31mOutOfMemoryError\u001b[0m: CUDA out of memory. Tried to allocate 17.61 GiB. GPU 1 has a total capacity of 23.69 GiB of which 5.64 GiB is free. Including non-PyTorch memory, this process has 17.92 GiB memory in use. Of the allocated memory 17.61 GiB is allocated by PyTorch, and 18.98 MiB is reserved by PyTorch but unallocated. If reserved but unallocated memory is large try setting PYTORCH_CUDA_ALLOC_CONF=expandable_segments:True to avoid fragmentation.  See documentation for Memory Management  (https://pytorch.org/docs/stable/notes/cuda.html#environment-variables)"
                    ]
                },
                {
                    "ename": "",
                    "evalue": "",
                    "output_type": "error",
                    "traceback": [
                        "\u001b[1;31mThe Kernel crashed while executing code in the current cell or a previous cell. \n",
                        "\u001b[1;31mPlease review the code in the cell(s) to identify a possible cause of the failure. \n",
                        "\u001b[1;31mClick <a href='https://aka.ms/vscodeJupyterKernelCrash'>here</a> for more info. \n",
                        "\u001b[1;31mView Jupyter <a href='command:jupyter.viewOutput'>log</a> for further details."
                    ]
                }
            ],
            "source": [
                "config = Config(\n",
                "    device='cuda:1', \n",
                "    sinkhorn_method=SinkhornMethod.LOG,\n",
                "    dtype=torch.float32,\n",
                "    sinkhorn_threshold=1e-3,\n",
                "    sinkhorn_iterations=500,\n",
                "    mu=2,\n",
                "    iter_count=15,\n",
                "    use_sparse_adjacency=True,\n",
                "    sinkhorn_cache_size=1,\n",
                "    frank_wolfe_threshold=0,\n",
                "    recompute_distance=True,\n",
                "    hungarian_method=HungarianMethod.DENSE,\n",
                "    )\n",
                "experiment = Experiment(\n",
                "    graphs=[\n",
                "        #Graph(GraphKind.PREDEFINED_GRAPHS, {\n",
                "        #    'source_file': 'data/MultiMagna/yeast0_Y2H1.txt',\n",
                "        #    'target_file': f'data/MultiMagna/yeast{i}_Y2H1.txt',\n",
                "        #}) for i in [25]#range(25, 6)#26, 5)\n",
                "        #Graph(GraphKind.NEWMAN_WATTS, {'n': 100, 'k': 3, 'p': 0.05}),\n",
                "        Graph(GraphKind.CA_HEP, {}),\n",
                "    ],\n",
                "    algorithms=[\n",
                "        Algorithm(config, use_fugal=False),\n",
                "        #Algorithm(config, use_fugal=True),\n",
                "    ],\n",
                "    noise_levels=[\n",
                "        NoiseLevel(0.0, 0.0, False),\n",
                "    ],\n",
                "    save_alignment=True,\n",
                ")\n",
                "results = experiment.run()\n",
                "\n",
                "print([result.accuracy for _, _, _, result in results.all_results()])\n",
                "\n",
                "#folder = \"results\"\n",
                "#if not os.path.exists(folder): os.makedirs(folder)\n",
                "#results.dump(folder)"
            ]
        }
    ],
    "metadata": {
        "kernelspec": {
            "display_name": "venv",
            "language": "python",
            "name": "python3"
        },
        "language_info": {
            "codemirror_mode": {
                "name": "ipython",
                "version": 3
            },
            "file_extension": ".py",
            "mimetype": "text/x-python",
            "name": "python",
            "nbconvert_exporter": "python",
            "pygments_lexer": "ipython3",
            "version": "3.11.7"
        }
    },
    "nbformat": 4,
    "nbformat_minor": 2
}
