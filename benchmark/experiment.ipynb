{
 "cells": [
  {
   "cell_type": "code",
   "execution_count": 1,
   "metadata": {},
   "outputs": [
    {
     "name": "stderr",
     "output_type": "stream",
     "text": [
      "/home/sebastian/src/bachelor/venv/lib/python3.12/site-packages/tqdm/auto.py:21: TqdmWarning: IProgress not found. Please update jupyter and ipywidgets. See https://ipywidgets.readthedocs.io/en/stable/user_install.html\n",
      "  from .autonotebook import tqdm as notebook_tqdm\n"
     ]
    }
   ],
   "source": [
    "from experiment import *\n",
    "import os\n",
    "import torch\n",
    "from cugal.config import SinkhornMethod, HungarianMethod"
   ]
  },
  {
   "cell_type": "code",
   "execution_count": 3,
   "metadata": {},
   "outputs": [
    {
     "name": "stderr",
     "output_type": "stream",
     "text": [
      "λ: 100%|██████████| 15/15 [00:00<00:00, 30.66it/s]"
     ]
    },
    {
     "name": "stdout",
     "output_type": "stream",
     "text": [
      "graph: NEWMAN_WATTS {'n': 256, 'k': 7, 'p': 0.4}\n",
      "noise level: {'source_noise': 0.075, 'target_noise': 0.0, 'refill_edges': False}\n",
      "algorithm: Cugal {'safe_mode': False, 'device': 'cuda', 'dtype': 'float32', 'sinkhorn_regularization': 1.0, 'sinkhorn_method': 'LOG', 'sinkhorn_iterations': 500, 'sinkhorn_threshold': 0.001, 'sinkhorn_eval_freq': 10, 'mu': 2.0, 'iter_count': 15, 'frank_wolfe_iter_count': 10, 'frank_wolfe_threshold': 0.1, 'use_sparse_adjacency': True, 'sinkhorn_cache_size': 1, 'recompute_distance': True, 'hungarian_method': 'SCIPY'}\n",
      "\n",
      "Induced Conserved Structure (ICS)  0.18593894542090658\n",
      "Edge Correctness (EC)              0.20039880358923232\n",
      "Symmetric Substructure Score (SSS) 0.10674455655868295\n",
      "Accuracy                           0.9296875\n",
      "Time (seconds)                     0.6464076042175293\n",
      "\n"
     ]
    },
    {
     "name": "stderr",
     "output_type": "stream",
     "text": [
      "\n"
     ]
    }
   ],
   "source": [
    "config = Config(\n",
    "    sinkhorn_method=SinkhornMethod.LOG,\n",
    "    hungarian_method=HungarianMethod.DENSE,\n",
    "    device=\"cuda\",\n",
    "    dtype=torch.float32, \n",
    "    sinkhorn_cache_size=1,\n",
    "    mu=2.0,\n",
    "    use_sparse_adjacency=True,\n",
    "    recompute_distance=True,\n",
    "    frank_wolfe_threshold=0.1,\n",
    ")\n",
    "\n",
    "experiment = Experiment(\n",
    "    graphs=[\n",
    "        Graph(GraphKind.NEWMAN_WATTS, {\n",
    "            'n': 256,\n",
    "            'k': 7,\n",
    "            'p': 0.4,\n",
    "        }),\n",
    "    ],\n",
    "    algorithms=[\n",
    "        Algorithm(config, use_fugal=False),\n",
    "        # Algorithm(Config(), use_fugal=True),\\n\",\n",
    "    ],\n",
    "    noise_levels=[\n",
    "        NoiseLevel(0.075, 0.0, False),\n",
    "    ],\n",
    ")\n",
    "results = experiment.run()\n",
    "\n",
    "folder = \"results\"\n",
    "if not os.path.exists(folder): os.makedirs(folder)\n",
    "# results.dump(folder)\\n\",\n",
    "\n",
    "for graph, noise_level, algorithm, result in results.all_results():\n",
    "    print('graph:', graph)\n",
    "    print('noise level:', noise_level)\n",
    "    print('algorithm:', algorithm)\n",
    "    print()\n",
    "    print(result)\n",
    "    print()"
   ]
  }
 ],
 "metadata": {
  "kernelspec": {
   "display_name": "venv",
   "language": "python",
   "name": "python3"
  },
  "language_info": {
   "codemirror_mode": {
    "name": "ipython",
    "version": 3
   },
   "file_extension": ".py",
   "mimetype": "text/x-python",
   "name": "python",
   "nbconvert_exporter": "python",
   "pygments_lexer": "ipython3",
   "version": "3.12.3"
  }
 },
 "nbformat": 4,
 "nbformat_minor": 2
}
