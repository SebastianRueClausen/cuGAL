{
 "cells": [
  {
   "cell_type": "code",
   "execution_count": 1,
   "metadata": {},
   "outputs": [
    {
     "name": "stderr",
     "output_type": "stream",
     "text": [
      "/Users/sebastianrueclausen/Code/fugal/venv/lib/python3.12/site-packages/tqdm/auto.py:21: TqdmWarning: IProgress not found. Please update jupyter and ipywidgets. See https://ipywidgets.readthedocs.io/en/stable/user_install.html\n",
      "  from .autonotebook import tqdm as notebook_tqdm\n"
     ]
    }
   ],
   "source": [
    "from experiment import *\n",
    "import os"
   ]
  },
  {
   "cell_type": "code",
   "execution_count": 2,
   "metadata": {},
   "outputs": [
    {
     "name": "stderr",
     "output_type": "stream",
     "text": [
      "λ: 100%|██████████| 15/15 [00:00<00:00, 28.02it/s]\n",
      "λ: 100%|██████████| 15/15 [00:00<00:00, 30.71it/s]\n"
     ]
    }
   ],
   "source": [
    "experiment = Experiment(\n",
    "    graphs=[\n",
    "        Graph(GraphKind.LOBSTER, {\n",
    "            'n': 64,\n",
    "            'p1': 0.2,\n",
    "            'p2': 0.2,\n",
    "        }),\n",
    "    ],\n",
    "    algorithms=[\n",
    "        Algorithm(Config(), use_fugal=False),\n",
    "    ],\n",
    "    noise_levels=[\n",
    "        NoiseLevel(0.05, 0.0, False),\n",
    "        NoiseLevel(0.1, 0.0, False),\n",
    "    ],\n",
    ")\n",
    "results = experiment.run()\n",
    "\n",
    "folder = \"results\"\n",
    "if not os.path.exists(folder): os.makedirs(folder)\n",
    "results.dump(folder)\n"
   ]
  }
 ],
 "metadata": {
  "kernelspec": {
   "display_name": "venv",
   "language": "python",
   "name": "python3"
  },
  "language_info": {
   "codemirror_mode": {
    "name": "ipython",
    "version": 3
   },
   "file_extension": ".py",
   "mimetype": "text/x-python",
   "name": "python",
   "nbconvert_exporter": "python",
   "pygments_lexer": "ipython3",
   "version": "3.12.2"
  }
 },
 "nbformat": 4,
 "nbformat_minor": 2
}
