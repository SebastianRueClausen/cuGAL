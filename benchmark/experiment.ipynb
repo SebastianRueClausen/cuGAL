{
 "cells": [
  {
   "cell_type": "code",
   "execution_count": 1,
   "metadata": {},
   "outputs": [
    {
     "name": "stderr",
     "output_type": "stream",
     "text": [
      "/home/sebastian/src/bachelor/venv/lib/python3.12/site-packages/tqdm/auto.py:21: TqdmWarning: IProgress not found. Please update jupyter and ipywidgets. See https://ipywidgets.readthedocs.io/en/stable/user_install.html\n",
      "  from .autonotebook import tqdm as notebook_tqdm\n"
     ]
    }
   ],
   "source": [
    "%matplotlib tk\n",
    "from experiment import *\n",
    "from dataclasses import replace\n",
    "import os\n",
    "import torch\n",
    "from cugal.config import SinkhornMethod, HungarianMethod"
   ]
  },
  {
   "cell_type": "code",
   "execution_count": 2,
   "metadata": {},
   "outputs": [
    {
     "name": "stdout",
     "output_type": "stream",
     "text": [
      "Running on CA_NETSCIENCE {'n': 128, 'k': 7, 'p': 0.1}\n",
      "Running with noise level {'source_noise': 0.1, 'target_noise': 0.0, 'refill_edges': False}\n",
      "Running with algorithm Cugal {'safe_mode': False, 'device': 'cuda', 'dtype': 'float32', 'sinkhorn_regularization': 0.5, 'sinkhorn_method': 'LOG', 'sinkhorn_iterations': 500, 'sinkhorn_threshold': 0.0001, 'sinkhorn_eval_freq': 10, 'mu': 2.0, 'iter_count': 15, 'frank_wolfe_iter_count': 10, 'frank_wolfe_threshold': None, 'use_sparse_adjacency': True, 'sinkhorn_cache_size': 1, 'sinkhorn_momentum_start': None, 'recompute_distance': True, 'hungarian_method': 'DENSE'}\n"
     ]
    },
    {
     "name": "stderr",
     "output_type": "stream",
     "text": [
      "λ: 100%|██████████| 15/15 [00:02<00:00,  5.91it/s]\n"
     ]
    },
    {
     "name": "stdout",
     "output_type": "stream",
     "text": [
      "Running with algorithm Cugal {'safe_mode': False, 'device': 'cuda', 'dtype': 'float32', 'sinkhorn_regularization': 0.5, 'sinkhorn_method': 'LOG', 'sinkhorn_iterations': 500, 'sinkhorn_threshold': 0.0001, 'sinkhorn_eval_freq': 10, 'mu': 2.0, 'iter_count': 15, 'frank_wolfe_iter_count': 10, 'frank_wolfe_threshold': None, 'use_sparse_adjacency': True, 'sinkhorn_cache_size': 1, 'sinkhorn_momentum_start': 20, 'recompute_distance': True, 'hungarian_method': 'DENSE'}\n"
     ]
    },
    {
     "name": "stderr",
     "output_type": "stream",
     "text": [
      "λ: 100%|██████████| 15/15 [00:02<00:00,  6.34it/s]"
     ]
    },
    {
     "name": "stdout",
     "output_type": "stream",
     "text": [
      "0.6121372031662269\n",
      "2.6946380138397217\n",
      "0.604221635883905\n",
      "2.376596450805664\n"
     ]
    },
    {
     "name": "stderr",
     "output_type": "stream",
     "text": [
      "\n"
     ]
    }
   ],
   "source": [
    "config = Config(\n",
    "    sinkhorn_method=SinkhornMethod.LOG,\n",
    "    hungarian_method=HungarianMethod.DENSE,\n",
    "    device=\"cuda\",\n",
    "    dtype=torch.float32, \n",
    "    sinkhorn_cache_size=1,\n",
    "    sinkhorn_regularization=0.5,\n",
    "    sinkhorn_iterations=500,\n",
    "    sinkhorn_threshold=0.0001,\n",
    "    mu=2.0,\n",
    "    use_sparse_adjacency=True,\n",
    "    recompute_distance=True,\n",
    "    sinkhorn_eval_freq=10,\n",
    "    frank_wolfe_threshold=None,\n",
    "    frank_wolfe_iter_count=10,\n",
    "    iter_count=15,\n",
    ")\n",
    "\n",
    "experiment = Experiment(\n",
    "    graphs=[\n",
    "        Graph(GraphKind.CA_NETSCIENCE, {\n",
    "            'n': 128,\n",
    "            'k': 7,\n",
    "            'p': 0.1,\n",
    "        }),\n",
    "    ],\n",
    "    algorithms=[\n",
    "        #Algorithm(replace(config, iter_count = 15), use_fugal=False),\n",
    "        #Algorithm(replace(config, iter_count = 1), use_fugal=False),\n",
    "        Algorithm(config, use_fugal=False),\n",
    "        Algorithm(replace(config, sinkhorn_momentum_start=20), use_fugal=False),\n",
    "        # Algorithm(replace(config, hungarian_method=HungarianMethod.DENSE), use_fugal=False),\n",
    "        # Algorithm(replace(config, hungarian_method=HungarianMethod.GREEDY), use_fugal=False),\n",
    "    ],\n",
    "    noise_levels=[\n",
    "        NoiseLevel(0.1, 0.0, False),\n",
    "    ],\n",
    "    num_runs=1,\n",
    ")\n",
    "results = experiment.run()\n",
    "\n",
    "folder = \"results\"\n",
    "if not os.path.exists(folder): os.makedirs(folder)\n",
    "# results.dump(folder)\\n\",\n",
    "\n",
    "\n",
    "for graph, noise_level, algorithm, result in results.all_results():\n",
    "    print(result.accuracy)\n",
    "    print(result.profile.time)\n",
    "    \"\"\"\n",
    "    print('graph:', graph)\n",
    "    print('noise level:', noise_level)\n",
    "    print('algorithm:', algorithm)\n",
    "    print()\n",
    "    print(result)\n",
    "    print()\n",
    "    \"\"\""
   ]
  }
 ],
 "metadata": {
  "kernelspec": {
   "display_name": "venv",
   "language": "python",
   "name": "python3"
  },
  "language_info": {
   "codemirror_mode": {
    "name": "ipython",
    "version": 3
   },
   "file_extension": ".py",
   "mimetype": "text/x-python",
   "name": "python",
   "nbconvert_exporter": "python",
   "pygments_lexer": "ipython3",
   "version": "3.12.3"
  }
 },
 "nbformat": 4,
 "nbformat_minor": 2
}
