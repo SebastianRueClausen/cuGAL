{
 "cells": [
  {
   "cell_type": "code",
   "execution_count": 1,
   "metadata": {},
   "outputs": [
    {
     "ename": "ModuleNotFoundError",
     "evalue": "No module named 'FUGAL'",
     "output_type": "error",
     "traceback": [
      "\u001b[0;31m---------------------------------------------------------------------------\u001b[0m",
      "\u001b[0;31mModuleNotFoundError\u001b[0m                       Traceback (most recent call last)",
      "Cell \u001b[0;32mIn[1], line 1\u001b[0m\n\u001b[0;32m----> 1\u001b[0m \u001b[38;5;28;01mfrom\u001b[39;00m \u001b[38;5;21;01mexperiment\u001b[39;00m \u001b[38;5;28;01mimport\u001b[39;00m \u001b[38;5;241m*\u001b[39m\n\u001b[1;32m      4\u001b[0m \u001b[38;5;28;01mimport\u001b[39;00m \u001b[38;5;21;01mos\u001b[39;00m\n\u001b[1;32m      5\u001b[0m \u001b[38;5;66;03m# import torch\u001b[39;00m\n",
      "File \u001b[0;32m~/Code/cuGAL/benchmark/experiment.py:18\u001b[0m\n\u001b[1;32m     16\u001b[0m \u001b[38;5;28;01mimport\u001b[39;00m \u001b[38;5;21;01mjson\u001b[39;00m\n\u001b[1;32m     17\u001b[0m \u001b[38;5;28;01mimport\u001b[39;00m \u001b[38;5;21;01mscipy\u001b[39;00m\u001b[38;5;21;01m.\u001b[39;00m\u001b[38;5;21;01msparse\u001b[39;00m \u001b[38;5;28;01mas\u001b[39;00m \u001b[38;5;21;01msps\u001b[39;00m\n\u001b[0;32m---> 18\u001b[0m \u001b[38;5;28;01mimport\u001b[39;00m \u001b[38;5;21;01mFUGAL\u001b[39;00m\u001b[38;5;21;01m.\u001b[39;00m\u001b[38;5;21;01mFugal\u001b[39;00m \u001b[38;5;28;01mas\u001b[39;00m \u001b[38;5;21;01mFugal\u001b[39;00m\n\u001b[1;32m     21\u001b[0m \u001b[38;5;129m@dataclass\u001b[39m\n\u001b[1;32m     22\u001b[0m \u001b[38;5;28;01mclass\u001b[39;00m \u001b[38;5;21;01mNoiseLevel\u001b[39;00m:\n\u001b[1;32m     23\u001b[0m     source_noise: \u001b[38;5;28mfloat\u001b[39m\n",
      "\u001b[0;31mModuleNotFoundError\u001b[0m: No module named 'FUGAL'"
     ]
    }
   ],
   "source": [
    "from experiment import *\n",
    "\n",
    "\n",
    "import os\n",
    "# import torch\n",
    "from cugal.config import SinkhornMethod, HungarianMethod"
   ]
  },
  {
   "cell_type": "code",
   "execution_count": 39,
   "metadata": {},
   "outputs": [
    {
     "name": "stderr",
     "output_type": "stream",
     "text": [
      "λ: 100%|██████████| 15/15 [00:00<00:00, 16.75it/s]\n"
     ]
    },
    {
     "name": "stdout",
     "output_type": "stream",
     "text": [
      "graph: NEWMAN_WATTS {'n': 2048, 'k': 16, 'p': 0.4}\n",
      "noise level: {'source_noise': 0.075, 'target_noise': 0.0, 'refill_edges': False}\n",
      "algorithm: Cugal {'safe_mode': False, 'device': 'cuda', 'dtype': 'float32', 'sinkhorn_regularization': 2.0, 'sinkhorn_method': 'STANDARD', 'sinkhorn_iterations': 500, 'sinkhorn_threshold': 0.001, 'sinkhorn_eval_freq': 10, 'mu': 2.0, 'iter_count': 15, 'frank_wolfe_iter_count': 10, 'frank_wolfe_threshold': None, 'use_sparse_adjacency': True, 'sinkhorn_cache_size': 1, 'recompute_distance': True, 'hungarian_method': 'SCIPY'}\n",
      "\n",
      "Induced Conserved Structure (ICS)  0.009206737062570905\n",
      "Edge Correctness (EC)              0.009965051478228015\n",
      "Symmetric Substructure Score (SSS) 0.004808459242040974\n",
      "Accuracy                           0.001953125\n",
      "Time (seconds)                     0.9784538745880127\n",
      "\n"
     ]
    }
   ],
   "source": [
    "config = Config(\n",
    "    sinkhorn_method=SinkhornMethod.LOG,\n",
    "    hungarian_method=HungarianMethod.SCIPY,\n",
    "    device=\"cuda\",\n",
    "    dtype=torch.float32, \n",
    "    sinkhorn_cache_size=1,\n",
    "    sinkhorn_regularization=0.2,\n",
    "    mu=2.0,\n",
    "    use_sparse_adjacency=True,\n",
    "    recompute_distance=True,\n",
    "    frank_wolfe_threshold=None,\n",
    ")\n",
    "\n",
    "experiment = Experiment(\n",
    "    graphs=[\n",
    "        Graph(GraphKind.NEWMAN_WATTS, {\n",
    "            'n': 1024*2,\n",
    "            'k': 16,\n",
    "            'p': 0.4,\n",
    "        }),\n",
    "    ],\n",
    "    algorithms=[\n",
    "        Algorithm(config, use_fugal=False),\n",
    "        # Algorithm(Config(), use_fugal=True),\\n\",\n",
    "    ],\n",
    "    noise_levels=[\n",
    "        NoiseLevel(0.075, 0.0, False),\n",
    "    ],\n",
    ")\n",
    "results = experiment.run()\n",
    "\n",
    "folder = \"results\"\n",
    "if not os.path.exists(folder): os.makedirs(folder)\n",
    "# results.dump(folder)\\n\",\n",
    "\n",
    "for graph, noise_level, algorithm, result in results.all_results():\n",
    "    print('graph:', graph)\n",
    "    print('noise level:', noise_level)\n",
    "    print('algorithm:', algorithm)\n",
    "    print()\n",
    "    print(result)\n",
    "    print()"
   ]
  }
 ],
 "metadata": {
  "kernelspec": {
   "display_name": "Python 3",
   "language": "python",
   "name": "python3"
  },
  "language_info": {
   "codemirror_mode": {
    "name": "ipython",
    "version": 3
   },
   "file_extension": ".py",
   "mimetype": "text/x-python",
   "name": "python",
   "nbconvert_exporter": "python",
   "pygments_lexer": "ipython3",
   "version": "3.11.6"
  }
 },
 "nbformat": 4,
 "nbformat_minor": 2
}
